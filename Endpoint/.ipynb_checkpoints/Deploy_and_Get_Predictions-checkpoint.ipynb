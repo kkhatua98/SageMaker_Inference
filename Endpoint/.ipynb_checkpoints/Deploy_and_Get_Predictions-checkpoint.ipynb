{
 "cells": [
  {
   "cell_type": "code",
   "execution_count": 2,
   "id": "7b20ac9c-ffbd-4c66-9cc9-795cbf7c987d",
   "metadata": {
    "tags": []
   },
   "outputs": [
    {
     "name": "stdout",
     "output_type": "stream",
     "text": [
      "sagemaker.config INFO - Not applying SDK defaults from location: /etc/xdg/sagemaker/config.yaml\n",
      "sagemaker.config INFO - Not applying SDK defaults from location: /root/.config/sagemaker/config.yaml\n",
      "sagemaker.config INFO - Not applying SDK defaults from location: /etc/xdg/sagemaker/config.yaml\n",
      "sagemaker.config INFO - Not applying SDK defaults from location: /root/.config/sagemaker/config.yaml\n",
      "sagemaker.config INFO - Not applying SDK defaults from location: /etc/xdg/sagemaker/config.yaml\n",
      "sagemaker.config INFO - Not applying SDK defaults from location: /root/.config/sagemaker/config.yaml\n"
     ]
    }
   ],
   "source": [
    "import sagemaker\n",
    "\n",
    "session = sagemaker.Session(default_bucket = \"demo-ouptut-bucket\", default_bucket_prefix = \"Endpoint/\") \n",
    "# default_bucket_prefix is not available in older versions of SageMaker\n",
    "role = sagemaker.get_execution_role()"
   ]
  },
  {
   "cell_type": "code",
   "execution_count": 3,
   "id": "179cf961-f4a3-4901-9549-9c4d126c1f79",
   "metadata": {
    "tags": []
   },
   "outputs": [
    {
     "data": {
      "text/plain": [
       "'2.184.0'"
      ]
     },
     "execution_count": 3,
     "metadata": {},
     "output_type": "execute_result"
    }
   ],
   "source": [
    "sagemaker.__version__"
   ]
  },
  {
   "cell_type": "markdown",
   "id": "19dc22c9-10dd-48d3-9382-50cd2110b4ca",
   "metadata": {},
   "source": [
    "# Sci-kit Learn"
   ]
  },
  {
   "cell_type": "code",
   "execution_count": null,
   "id": "077df4fe-3607-4e5b-8982-290c0ebe6601",
   "metadata": {},
   "outputs": [],
   "source": [
    "# See this link to get the idea on how to get predictions from a SageMaker Scikit-Learn Endpoint: \n",
    "# https://stackoverflow.com/questions/63568274/how-to-use-serializer-and-deserializer-in-sagemaker-2"
   ]
  },
  {
   "cell_type": "code",
   "execution_count": 3,
   "id": "834ee86f-18a4-4ba5-bcc2-6b5cd04ae292",
   "metadata": {
    "tags": []
   },
   "outputs": [],
   "source": [
    "image_url = \"720646828776.dkr.ecr.ap-south-1.amazonaws.com/sagemaker-scikit-learn:1.0-1-cpu-py3\"\n",
    "model_data_url = \"s3://demo-output-bucket/Training_Pipeline_Output/2023-09-08T07:35:39.843Z/HPTuningOutputs/Decision_Tree/gxvc0dt117zh-hptuning-cQVa6D6efJ-001-3a4cf63d/output/model.tar.gz\"\n",
    "instance_type = \"ml.c5.xlarge\""
   ]
  },
  {
   "cell_type": "code",
   "execution_count": 4,
   "id": "3409574d-21a5-41ec-82d7-28de2bfb166e",
   "metadata": {
    "tags": []
   },
   "outputs": [
    {
     "name": "stdout",
     "output_type": "stream",
     "text": [
      "sagemaker.config INFO - Not applying SDK defaults from location: /etc/xdg/sagemaker/config.yaml\n",
      "sagemaker.config INFO - Not applying SDK defaults from location: /root/.config/sagemaker/config.yaml\n"
     ]
    }
   ],
   "source": [
    "from sagemaker.model import Model\n",
    "model = Model(\n",
    "    entry_point = \"Evaluation.py\",\n",
    "    source_dir = \"code\", \n",
    "    role = role,\n",
    "    image_uri = image_url,\n",
    "    model_data = model_data_url\n",
    ")"
   ]
  },
  {
   "cell_type": "code",
   "execution_count": 5,
   "id": "8845aac3-aa86-46af-a0b7-523a25edd4f5",
   "metadata": {
    "tags": []
   },
   "outputs": [
    {
     "name": "stdout",
     "output_type": "stream",
     "text": [
      "sagemaker.config INFO - Not applying SDK defaults from location: /etc/xdg/sagemaker/config.yaml\n",
      "sagemaker.config INFO - Not applying SDK defaults from location: /root/.config/sagemaker/config.yaml\n",
      "---!"
     ]
    }
   ],
   "source": [
    "predictor = model.deploy(initial_instance_count=1, instance_type=instance_type, endpoint_name = \"churn-endpoint-12345\")"
   ]
  },
  {
   "cell_type": "code",
   "execution_count": 16,
   "id": "ea42fba7-de6f-4d80-9c12-63ccf456853f",
   "metadata": {},
   "outputs": [
    {
     "name": "stdout",
     "output_type": "stream",
     "text": [
      "sagemaker.config INFO - Not applying SDK defaults from location: /etc/xdg/sagemaker/config.yaml\n",
      "sagemaker.config INFO - Not applying SDK defaults from location: /root/.config/sagemaker/config.yaml\n"
     ]
    }
   ],
   "source": [
    "from sagemaker.deserializers import JSONDeserializer\n",
    "from sagemaker.serializers import CSVSerializer\n",
    "predictor = sagemaker.predictor.Predictor(endpoint_name = \"churn-endpoint-12345\",\n",
    "                                          serializer = CSVSerializer(),\n",
    "                                          # content_type  = \"text/csv\"\n",
    "                                         )"
   ]
  },
  {
   "cell_type": "code",
   "execution_count": 17,
   "id": "5f65983f-1749-468b-8f45-003b44cb59a2",
   "metadata": {},
   "outputs": [],
   "source": [
    "import pandas as pd\n",
    "s3 = pd.read_csv(\"s3://demo-output-bucket/Training_Pipeline_Output/2023-08-02T06:55:59.009Z/TrainProcessingOutput/test.csv\")\n",
    "s3 = s3.drop(columns = [\"Churn\"])"
   ]
  },
  {
   "cell_type": "code",
   "execution_count": 18,
   "id": "bc646e3a-86aa-4a34-b53a-7978ef214bbc",
   "metadata": {
    "tags": []
   },
   "outputs": [
    {
     "data": {
      "text/plain": [
       "b'{\"0\": {\"0\": 1, \"1\": 0, \"2\": 0, \"3\": 1, \"4\": 0, \"5\": 0, \"6\": 0, \"7\": 0, \"8\": 0, \"9\": 0, \"10\": 0, \"11\": 0, \"12\": 0, \"13\": 0, \"14\": 0, \"15\": 1, \"16\": 1, \"17\": 0, \"18\": 1, \"19\": 0, \"20\": 0, \"21\": 0, \"22\": 0, \"23\": 0, \"24\": 0, \"25\": 0, \"26\": 0, \"27\": 0, \"28\": 0, \"29\": 0, \"30\": 0, \"31\": 0, \"32\": 0, \"33\": 0, \"34\": 0, \"35\": 0, \"36\": 0, \"37\": 0, \"38\": 0, \"39\": 0, \"40\": 0, \"41\": 0, \"42\": 1, \"43\": 0, \"44\": 0, \"45\": 0, \"46\": 1, \"47\": 0, \"48\": 0, \"49\": 0, \"50\": 0, \"51\": 0, \"52\": 0, \"53\": 0, \"54\": 0, \"55\": 0, \"56\": 0, \"57\": 1, \"58\": 0, \"59\": 0, \"60\": 0, \"61\": 0, \"62\": 0, \"63\": 0, \"64\": 0, \"65\": 0, \"66\": 0, \"67\": 0, \"68\": 0, \"69\": 0, \"70\": 1, \"71\": 0, \"72\": 1, \"73\": 0, \"74\": 0, \"75\": 0, \"76\": 0, \"77\": 0, \"78\": 0, \"79\": 0, \"80\": 0, \"81\": 0, \"82\": 0, \"83\": 0, \"84\": 0, \"85\": 0, \"86\": 0, \"87\": 1, \"88\": 0, \"89\": 0, \"90\": 0, \"91\": 0, \"92\": 0, \"93\": 0, \"94\": 0, \"95\": 0, \"96\": 0, \"97\": 0, \"98\": 0, \"99\": 0, \"100\": 0, \"101\": 0, \"102\": 0, \"103\": 0, \"104\": 0, \"105\": 0, \"106\": 0, \"107\": 0, \"108\": 0, \"109\": 0, \"110\": 0, \"111\": 0, \"112\": 0, \"113\": 0, \"114\": 0, \"115\": 0, \"116\": 0, \"117\": 0, \"118\": 0, \"119\": 0, \"120\": 0, \"121\": 0, \"122\": 0, \"123\": 0, \"124\": 0, \"125\": 0, \"126\": 0, \"127\": 0, \"128\": 0, \"129\": 0, \"130\": 0, \"131\": 0, \"132\": 0, \"133\": 0, \"134\": 0, \"135\": 0, \"136\": 0, \"137\": 1, \"138\": 0, \"139\": 1, \"140\": 0, \"141\": 1, \"142\": 0, \"143\": 0, \"144\": 1, \"145\": 0, \"146\": 0, \"147\": 0, \"148\": 0, \"149\": 0, \"150\": 0, \"151\": 0, \"152\": 0, \"153\": 0, \"154\": 1, \"155\": 0, \"156\": 0, \"157\": 0, \"158\": 0, \"159\": 0, \"160\": 0, \"161\": 0, \"162\": 0, \"163\": 0, \"164\": 0, \"165\": 0, \"166\": 1, \"167\": 0, \"168\": 0, \"169\": 0, \"170\": 0, \"171\": 0, \"172\": 0, \"173\": 1, \"174\": 0, \"175\": 1, \"176\": 0, \"177\": 0, \"178\": 1, \"179\": 0, \"180\": 0, \"181\": 0, \"182\": 1, \"183\": 0, \"184\": 0, \"185\": 0, \"186\": 0, \"187\": 0, \"188\": 0, \"189\": 0, \"190\": 0, \"191\": 0, \"192\": 0, \"193\": 0, \"194\": 0, \"195\": 0, \"196\": 0, \"197\": 0, \"198\": 0, \"199\": 0, \"200\": 0, \"201\": 0, \"202\": 1, \"203\": 0, \"204\": 1, \"205\": 0, \"206\": 0, \"207\": 0, \"208\": 0, \"209\": 0, \"210\": 0, \"211\": 0, \"212\": 0, \"213\": 0, \"214\": 0, \"215\": 0, \"216\": 0, \"217\": 0, \"218\": 0, \"219\": 0, \"220\": 0, \"221\": 0, \"222\": 0, \"223\": 0, \"224\": 0, \"225\": 0, \"226\": 0, \"227\": 0, \"228\": 0, \"229\": 1, \"230\": 1, \"231\": 0, \"232\": 0, \"233\": 1, \"234\": 0, \"235\": 0, \"236\": 0, \"237\": 0, \"238\": 0, \"239\": 0, \"240\": 0, \"241\": 1, \"242\": 0, \"243\": 0, \"244\": 0, \"245\": 0, \"246\": 0, \"247\": 0, \"248\": 0, \"249\": 0, \"250\": 0, \"251\": 0, \"252\": 0, \"253\": 0, \"254\": 0, \"255\": 0, \"256\": 0, \"257\": 0, \"258\": 0, \"259\": 0, \"260\": 1, \"261\": 0, \"262\": 0, \"263\": 1, \"264\": 0, \"265\": 0, \"266\": 0, \"267\": 0, \"268\": 0, \"269\": 0, \"270\": 0, \"271\": 0, \"272\": 0, \"273\": 0, \"274\": 0, \"275\": 0, \"276\": 0, \"277\": 0, \"278\": 0, \"279\": 0, \"280\": 0, \"281\": 0, \"282\": 1, \"283\": 1, \"284\": 0, \"285\": 1, \"286\": 0, \"287\": 0, \"288\": 0, \"289\": 0, \"290\": 0, \"291\": 0, \"292\": 0, \"293\": 0, \"294\": 0, \"295\": 0, \"296\": 0, \"297\": 1, \"298\": 1, \"299\": 0, \"300\": 0, \"301\": 0, \"302\": 0, \"303\": 0, \"304\": 0, \"305\": 0, \"306\": 0, \"307\": 1, \"308\": 1, \"309\": 0, \"310\": 0, \"311\": 0, \"312\": 1, \"313\": 0, \"314\": 0, \"315\": 0, \"316\": 0, \"317\": 0, \"318\": 0, \"319\": 0, \"320\": 0, \"321\": 0, \"322\": 0, \"323\": 0, \"324\": 0, \"325\": 0, \"326\": 0, \"327\": 0, \"328\": 0, \"329\": 0, \"330\": 0, \"331\": 0, \"332\": 0, \"333\": 0, \"334\": 0, \"335\": 0, \"336\": 0, \"337\": 0, \"338\": 0, \"339\": 0, \"340\": 0, \"341\": 0, \"342\": 0, \"343\": 0, \"344\": 0, \"345\": 0, \"346\": 0, \"347\": 0, \"348\": 0, \"349\": 0, \"350\": 0, \"351\": 0, \"352\": 0, \"353\": 0, \"354\": 0, \"355\": 0, \"356\": 1, \"357\": 0, \"358\": 0, \"359\": 0, \"360\": 1, \"361\": 0, \"362\": 0, \"363\": 1, \"364\": 0, \"365\": 0, \"366\": 1, \"367\": 0, \"368\": 0, \"369\": 0, \"370\": 0, \"371\": 0, \"372\": 0, \"373\": 0, \"374\": 0, \"375\": 0, \"376\": 0, \"377\": 1, \"378\": 1, \"379\": 0, \"380\": 0, \"381\": 0, \"382\": 1, \"383\": 0, \"384\": 0, \"385\": 1, \"386\": 0, \"387\": 0, \"388\": 0, \"389\": 1, \"390\": 0, \"391\": 0, \"392\": 0, \"393\": 0, \"394\": 0, \"395\": 0, \"396\": 0, \"397\": 0, \"398\": 0, \"399\": 0, \"400\": 0, \"401\": 0, \"402\": 1, \"403\": 0, \"404\": 0, \"405\": 0, \"406\": 1, \"407\": 0, \"408\": 0, \"409\": 0, \"410\": 1, \"411\": 0, \"412\": 0, \"413\": 0, \"414\": 0, \"415\": 0, \"416\": 0, \"417\": 0, \"418\": 0, \"419\": 0, \"420\": 0, \"421\": 0, \"422\": 0, \"423\": 0, \"424\": 0, \"425\": 0, \"426\": 0, \"427\": 0, \"428\": 0, \"429\": 0, \"430\": 0, \"431\": 0, \"432\": 0, \"433\": 0, \"434\": 0, \"435\": 1, \"436\": 0, \"437\": 0, \"438\": 0, \"439\": 0, \"440\": 0, \"441\": 1, \"442\": 0, \"443\": 0, \"444\": 0, \"445\": 0, \"446\": 0, \"447\": 0, \"448\": 0, \"449\": 0, \"450\": 0, \"451\": 0, \"452\": 0, \"453\": 0, \"454\": 0, \"455\": 0, \"456\": 0, \"457\": 0, \"458\": 0, \"459\": 0, \"460\": 0, \"461\": 0, \"462\": 0, \"463\": 0, \"464\": 0, \"465\": 0, \"466\": 0, \"467\": 0, \"468\": 0, \"469\": 0, \"470\": 1, \"471\": 0, \"472\": 0, \"473\": 1, \"474\": 0, \"475\": 0, \"476\": 0, \"477\": 0, \"478\": 0, \"479\": 0, \"480\": 0, \"481\": 0, \"482\": 0, \"483\": 0, \"484\": 0, \"485\": 0, \"486\": 0, \"487\": 0, \"488\": 0, \"489\": 0, \"490\": 0, \"491\": 0, \"492\": 0, \"493\": 0, \"494\": 0, \"495\": 0, \"496\": 0, \"497\": 0, \"498\": 0, \"499\": 0, \"500\": 0, \"501\": 0, \"502\": 0, \"503\": 0, \"504\": 0, \"505\": 0, \"506\": 0, \"507\": 0, \"508\": 0, \"509\": 0, \"510\": 0, \"511\": 0, \"512\": 0, \"513\": 0, \"514\": 0, \"515\": 0, \"516\": 0, \"517\": 0, \"518\": 0, \"519\": 0, \"520\": 0, \"521\": 0, \"522\": 0, \"523\": 0, \"524\": 0, \"525\": 0, \"526\": 0, \"527\": 0, \"528\": 0, \"529\": 0, \"530\": 0, \"531\": 0, \"532\": 0, \"533\": 0, \"534\": 0, \"535\": 0, \"536\": 1, \"537\": 0, \"538\": 0, \"539\": 0, \"540\": 0, \"541\": 0, \"542\": 0, \"543\": 0, \"544\": 0, \"545\": 0, \"546\": 1, \"547\": 0, \"548\": 0, \"549\": 0, \"550\": 0, \"551\": 0, \"552\": 0, \"553\": 0, \"554\": 0, \"555\": 0, \"556\": 0, \"557\": 0, \"558\": 0, \"559\": 0, \"560\": 0, \"561\": 0, \"562\": 0, \"563\": 0, \"564\": 0, \"565\": 0, \"566\": 1, \"567\": 0, \"568\": 0, \"569\": 0, \"570\": 0, \"571\": 0, \"572\": 0, \"573\": 0, \"574\": 0, \"575\": 0, \"576\": 0, \"577\": 0, \"578\": 0, \"579\": 1, \"580\": 0, \"581\": 1, \"582\": 0, \"583\": 0, \"584\": 0, \"585\": 0, \"586\": 0, \"587\": 0, \"588\": 0, \"589\": 0, \"590\": 0, \"591\": 0, \"592\": 0, \"593\": 0, \"594\": 0, \"595\": 0, \"596\": 0, \"597\": 0, \"598\": 0, \"599\": 0, \"600\": 0, \"601\": 0, \"602\": 0, \"603\": 0, \"604\": 0, \"605\": 0, \"606\": 0, \"607\": 1, \"608\": 0, \"609\": 0, \"610\": 0, \"611\": 0, \"612\": 0, \"613\": 0, \"614\": 0, \"615\": 0, \"616\": 0, \"617\": 0, \"618\": 0, \"619\": 0, \"620\": 0, \"621\": 0, \"622\": 0, \"623\": 0, \"624\": 0, \"625\": 0, \"626\": 0, \"627\": 0, \"628\": 0, \"629\": 0, \"630\": 0, \"631\": 0, \"632\": 0, \"633\": 1, \"634\": 0, \"635\": 0, \"636\": 0, \"637\": 1, \"638\": 0, \"639\": 0, \"640\": 0, \"641\": 0, \"642\": 0, \"643\": 0, \"644\": 0, \"645\": 0, \"646\": 0, \"647\": 0, \"648\": 0, \"649\": 0, \"650\": 0, \"651\": 0, \"652\": 0, \"653\": 0, \"654\": 0, \"655\": 0, \"656\": 0, \"657\": 1, \"658\": 0, \"659\": 1, \"660\": 0, \"661\": 0, \"662\": 0, \"663\": 0, \"664\": 0, \"665\": 0, \"666\": 1, \"667\": 0, \"668\": 0, \"669\": 0, \"670\": 0, \"671\": 0, \"672\": 1, \"673\": 0, \"674\": 0, \"675\": 0, \"676\": 0, \"677\": 0, \"678\": 0, \"679\": 0, \"680\": 1, \"681\": 0, \"682\": 0, \"683\": 0, \"684\": 0, \"685\": 0, \"686\": 0, \"687\": 0, \"688\": 0, \"689\": 0, \"690\": 0, \"691\": 0, \"692\": 0, \"693\": 0, \"694\": 0, \"695\": 0, \"696\": 0, \"697\": 0, \"698\": 1, \"699\": 0, \"700\": 0, \"701\": 0, \"702\": 0, \"703\": 0, \"704\": 0, \"705\": 0, \"706\": 0, \"707\": 0, \"708\": 0, \"709\": 0, \"710\": 0, \"711\": 0, \"712\": 1, \"713\": 0, \"714\": 0, \"715\": 0, \"716\": 0, \"717\": 0, \"718\": 0, \"719\": 0, \"720\": 0, \"721\": 1, \"722\": 0, \"723\": 0, \"724\": 0, \"725\": 0, \"726\": 0, \"727\": 0, \"728\": 0, \"729\": 0, \"730\": 0, \"731\": 0, \"732\": 0, \"733\": 0, \"734\": 0, \"735\": 0, \"736\": 0, \"737\": 0, \"738\": 0, \"739\": 0, \"740\": 0, \"741\": 0, \"742\": 1, \"743\": 0, \"744\": 0, \"745\": 0, \"746\": 0, \"747\": 0, \"748\": 0, \"749\": 0, \"750\": 0, \"751\": 0, \"752\": 0, \"753\": 0, \"754\": 0, \"755\": 0, \"756\": 0, \"757\": 0, \"758\": 1, \"759\": 0, \"760\": 0, \"761\": 0, \"762\": 0, \"763\": 0, \"764\": 0, \"765\": 0, \"766\": 0, \"767\": 0, \"768\": 0, \"769\": 0, \"770\": 0, \"771\": 0, \"772\": 0, \"773\": 0, \"774\": 0, \"775\": 0, \"776\": 0, \"777\": 0, \"778\": 0, \"779\": 0, \"780\": 0, \"781\": 0, \"782\": 0, \"783\": 0, \"784\": 0, \"785\": 0, \"786\": 0, \"787\": 0, \"788\": 0, \"789\": 1, \"790\": 0, \"791\": 0, \"792\": 0, \"793\": 0, \"794\": 0, \"795\": 0, \"796\": 1, \"797\": 0, \"798\": 0, \"799\": 0, \"800\": 1, \"801\": 1, \"802\": 0, \"803\": 0, \"804\": 0, \"805\": 0, \"806\": 0, \"807\": 0, \"808\": 0, \"809\": 0, \"810\": 1, \"811\": 0, \"812\": 0, \"813\": 0, \"814\": 0, \"815\": 0, \"816\": 0, \"817\": 0, \"818\": 0, \"819\": 0, \"820\": 0, \"821\": 0, \"822\": 0, \"823\": 0, \"824\": 0, \"825\": 0, \"826\": 1, \"827\": 0, \"828\": 0, \"829\": 0, \"830\": 0, \"831\": 0, \"832\": 0, \"833\": 0, \"834\": 0, \"835\": 0, \"836\": 0, \"837\": 0, \"838\": 0, \"839\": 0, \"840\": 0, \"841\": 0, \"842\": 0, \"843\": 0, \"844\": 1, \"845\": 0, \"846\": 0, \"847\": 0, \"848\": 0, \"849\": 0, \"850\": 1, \"851\": 0, \"852\": 0, \"853\": 1, \"854\": 0, \"855\": 0, \"856\": 0, \"857\": 0, \"858\": 0, \"859\": 0, \"860\": 1, \"861\": 0, \"862\": 0, \"863\": 0, \"864\": 0, \"865\": 0, \"866\": 0, \"867\": 0, \"868\": 1, \"869\": 0, \"870\": 0, \"871\": 0, \"872\": 0, \"873\": 0, \"874\": 0, \"875\": 1, \"876\": 0, \"877\": 0, \"878\": 0, \"879\": 0}, \"1\": {\"0\": 1, \"1\": 1, \"2\": 1, \"3\": 1, \"4\": 1, \"5\": 1, \"6\": 1, \"7\": 1, \"8\": 1, \"9\": 1, \"10\": 1, \"11\": 1, \"12\": 1, \"13\": 1, \"14\": 1, \"15\": 1, \"16\": 1, \"17\": 1, \"18\": 1, \"19\": 1, \"20\": 1, \"21\": 1, \"22\": 1, \"23\": 1, \"24\": 1, \"25\": 1, \"26\": 1, \"27\": 1, \"28\": 1, \"29\": 1, \"30\": 1, \"31\": 1, \"32\": 1, \"33\": 1, \"34\": 1, \"35\": 1, \"36\": 1, \"37\": 1, \"38\": 1, \"39\": 1, \"40\": 1, \"41\": 1, \"42\": 1, \"43\": 1, \"44\": 1, \"45\": 1, \"46\": 1, \"47\": 1, \"48\": 1, \"49\": 1, \"50\": 1, \"51\": 1, \"52\": 1, \"53\": 1, \"54\": 1, \"55\": 1, \"56\": 1, \"57\": 1, \"58\": 1, \"59\": 1, \"60\": 1, \"61\": 1, \"62\": 1, \"63\": 1, \"64\": 1, \"65\": 1, \"66\": 1, \"67\": 1, \"68\": 1, \"69\": 1, \"70\": 1, \"71\": 1, \"72\": 1, \"73\": 1, \"74\": 1, \"75\": 1, \"76\": 1, \"77\": 1, \"78\": 1, \"79\": 1, \"80\": 1, \"81\": 1, \"82\": 1, \"83\": 1, \"84\": 1, \"85\": 1, \"86\": 1, \"87\": 1, \"88\": 1, \"89\": 1, \"90\": 1, \"91\": 1, \"92\": 1, \"93\": 1, \"94\": 1, \"95\": 1, \"96\": 1, \"97\": 1, \"98\": 1, \"99\": 1, \"100\": 1, \"101\": 1, \"102\": 1, \"103\": 1, \"104\": 1, \"105\": 1, \"106\": 1, \"107\": 1, \"108\": 1, \"109\": 1, \"110\": 1, \"111\": 1, \"112\": 1, \"113\": 1, \"114\": 1, \"115\": 1, \"116\": 1, \"117\": 1, \"118\": 1, \"119\": 1, \"120\": 1, \"121\": 1, \"122\": 1, \"123\": 1, \"124\": 1, \"125\": 1, \"126\": 1, \"127\": 1, \"128\": 1, \"129\": 1, \"130\": 1, \"131\": 1, \"132\": 1, \"133\": 1, \"134\": 1, \"135\": 1, \"136\": 1, \"137\": 1, \"138\": 1, \"139\": 1, \"140\": 1, \"141\": 1, \"142\": 1, \"143\": 1, \"144\": 1, \"145\": 1, \"146\": 1, \"147\": 1, \"148\": 1, \"149\": 1, \"150\": 1, \"151\": 1, \"152\": 1, \"153\": 1, \"154\": 1, \"155\": 1, \"156\": 1, \"157\": 1, \"158\": 1, \"159\": 1, \"160\": 1, \"161\": 1, \"162\": 1, \"163\": 1, \"164\": 1, \"165\": 1, \"166\": 1, \"167\": 1, \"168\": 1, \"169\": 1, \"170\": 1, \"171\": 1, \"172\": 1, \"173\": 1, \"174\": 1, \"175\": 1, \"176\": 1, \"177\": 1, \"178\": 1, \"179\": 1, \"180\": 1, \"181\": 1, \"182\": 1, \"183\": 1, \"184\": 1, \"185\": 1, \"186\": 1, \"187\": 1, \"188\": 1, \"189\": 1, \"190\": 1, \"191\": 1, \"192\": 1, \"193\": 1, \"194\": 1, \"195\": 1, \"196\": 1, \"197\": 1, \"198\": 1, \"199\": 1, \"200\": 1, \"201\": 1, \"202\": 1, \"203\": 1, \"204\": 1, \"205\": 1, \"206\": 1, \"207\": 1, \"208\": 1, \"209\": 1, \"210\": 1, \"211\": 1, \"212\": 1, \"213\": 1, \"214\": 1, \"215\": 1, \"216\": 1, \"217\": 1, \"218\": 1, \"219\": 1, \"220\": 1, \"221\": 1, \"222\": 1, \"223\": 1, \"224\": 1, \"225\": 1, \"226\": 1, \"227\": 1, \"228\": 1, \"229\": 1, \"230\": 1, \"231\": 1, \"232\": 1, \"233\": 1, \"234\": 1, \"235\": 1, \"236\": 1, \"237\": 1, \"238\": 1, \"239\": 1, \"240\": 1, \"241\": 1, \"242\": 1, \"243\": 1, \"244\": 1, \"245\": 1, \"246\": 1, \"247\": 1, \"248\": 1, \"249\": 1, \"250\": 1, \"251\": 1, \"252\": 1, \"253\": 1, \"254\": 1, \"255\": 1, \"256\": 1, \"257\": 1, \"258\": 1, \"259\": 1, \"260\": 1, \"261\": 1, \"262\": 1, \"263\": 1, \"264\": 1, \"265\": 1, \"266\": 1, \"267\": 1, \"268\": 1, \"269\": 1, \"270\": 1, \"271\": 1, \"272\": 1, \"273\": 1, \"274\": 1, \"275\": 1, \"276\": 1, \"277\": 1, \"278\": 1, \"279\": 1, \"280\": 1, \"281\": 1, \"282\": 1, \"283\": 1, \"284\": 1, \"285\": 1, \"286\": 1, \"287\": 1, \"288\": 1, \"289\": 1, \"290\": 1, \"291\": 1, \"292\": 1, \"293\": 1, \"294\": 1, \"295\": 1, \"296\": 1, \"297\": 1, \"298\": 1, \"299\": 1, \"300\": 1, \"301\": 1, \"302\": 1, \"303\": 1, \"304\": 1, \"305\": 1, \"306\": 1, \"307\": 1, \"308\": 1, \"309\": 1, \"310\": 1, \"311\": 1, \"312\": 1, \"313\": 1, \"314\": 1, \"315\": 1, \"316\": 1, \"317\": 1, \"318\": 1, \"319\": 1, \"320\": 1, \"321\": 1, \"322\": 1, \"323\": 1, \"324\": 1, \"325\": 1, \"326\": 1, \"327\": 1, \"328\": 1, \"329\": 1, \"330\": 1, \"331\": 1, \"332\": 1, \"333\": 1, \"334\": 1, \"335\": 1, \"336\": 1, \"337\": 1, \"338\": 1, \"339\": 1, \"340\": 1, \"341\": 1, \"342\": 1, \"343\": 1, \"344\": 1, \"345\": 1, \"346\": 1, \"347\": 1, \"348\": 1, \"349\": 1, \"350\": 1, \"351\": 1, \"352\": 1, \"353\": 1, \"354\": 1, \"355\": 1, \"356\": 1, \"357\": 1, \"358\": 1, \"359\": 1, \"360\": 1, \"361\": 1, \"362\": 1, \"363\": 1, \"364\": 1, \"365\": 1, \"366\": 1, \"367\": 1, \"368\": 1, \"369\": 1, \"370\": 1, \"371\": 1, \"372\": 1, \"373\": 1, \"374\": 1, \"375\": 1, \"376\": 1, \"377\": 1, \"378\": 1, \"379\": 1, \"380\": 1, \"381\": 1, \"382\": 1, \"383\": 1, \"384\": 1, \"385\": 1, \"386\": 1, \"387\": 1, \"388\": 1, \"389\": 1, \"390\": 1, \"391\": 1, \"392\": 1, \"393\": 1, \"394\": 1, \"395\": 1, \"396\": 1, \"397\": 1, \"398\": 1, \"399\": 1, \"400\": 1, \"401\": 1, \"402\": 1, \"403\": 1, \"404\": 1, \"405\": 1, \"406\": 1, \"407\": 1, \"408\": 1, \"409\": 1, \"410\": 1, \"411\": 1, \"412\": 1, \"413\": 1, \"414\": 1, \"415\": 1, \"416\": 1, \"417\": 1, \"418\": 1, \"419\": 1, \"420\": 1, \"421\": 1, \"422\": 1, \"423\": 1, \"424\": 1, \"425\": 1, \"426\": 1, \"427\": 1, \"428\": 1, \"429\": 1, \"430\": 1, \"431\": 1, \"432\": 1, \"433\": 1, \"434\": 1, \"435\": 1, \"436\": 1, \"437\": 1, \"438\": 1, \"439\": 1, \"440\": 1, \"441\": 1, \"442\": 1, \"443\": 1, \"444\": 1, \"445\": 1, \"446\": 1, \"447\": 1, \"448\": 1, \"449\": 1, \"450\": 1, \"451\": 1, \"452\": 1, \"453\": 1, \"454\": 1, \"455\": 1, \"456\": 1, \"457\": 1, \"458\": 1, \"459\": 1, \"460\": 1, \"461\": 1, \"462\": 1, \"463\": 1, \"464\": 1, \"465\": 1, \"466\": 1, \"467\": 1, \"468\": 1, \"469\": 1, \"470\": 1, \"471\": 1, \"472\": 1, \"473\": 1, \"474\": 1, \"475\": 1, \"476\": 1, \"477\": 1, \"478\": 1, \"479\": 1, \"480\": 1, \"481\": 1, \"482\": 1, \"483\": 1, \"484\": 1, \"485\": 1, \"486\": 1, \"487\": 1, \"488\": 1, \"489\": 1, \"490\": 1, \"491\": 1, \"492\": 1, \"493\": 1, \"494\": 1, \"495\": 1, \"496\": 1, \"497\": 1, \"498\": 1, \"499\": 1, \"500\": 1, \"501\": 1, \"502\": 1, \"503\": 1, \"504\": 1, \"505\": 1, \"506\": 1, \"507\": 1, \"508\": 1, \"509\": 1, \"510\": 1, \"511\": 1, \"512\": 1, \"513\": 1, \"514\": 1, \"515\": 1, \"516\": 1, \"517\": 1, \"518\": 1, \"519\": 1, \"520\": 1, \"521\": 1, \"522\": 1, \"523\": 1, \"524\": 1, \"525\": 1, \"526\": 1, \"527\": 1, \"528\": 1, \"529\": 1, \"530\": 1, \"531\": 1, \"532\": 1, \"533\": 1, \"534\": 1, \"535\": 1, \"536\": 1, \"537\": 1, \"538\": 1, \"539\": 1, \"540\": 1, \"541\": 1, \"542\": 1, \"543\": 1, \"544\": 1, \"545\": 1, \"546\": 1, \"547\": 1, \"548\": 1, \"549\": 1, \"550\": 1, \"551\": 1, \"552\": 1, \"553\": 1, \"554\": 1, \"555\": 1, \"556\": 1, \"557\": 1, \"558\": 1, \"559\": 1, \"560\": 1, \"561\": 1, \"562\": 1, \"563\": 1, \"564\": 1, \"565\": 1, \"566\": 1, \"567\": 1, \"568\": 1, \"569\": 1, \"570\": 1, \"571\": 1, \"572\": 1, \"573\": 1, \"574\": 1, \"575\": 1, \"576\": 1, \"577\": 1, \"578\": 1, \"579\": 1, \"580\": 1, \"581\": 1, \"582\": 1, \"583\": 1, \"584\": 1, \"585\": 1, \"586\": 1, \"587\": 1, \"588\": 1, \"589\": 1, \"590\": 1, \"591\": 1, \"592\": 1, \"593\": 1, \"594\": 1, \"595\": 1, \"596\": 1, \"597\": 1, \"598\": 1, \"599\": 1, \"600\": 1, \"601\": 1, \"602\": 1, \"603\": 1, \"604\": 1, \"605\": 1, \"606\": 1, \"607\": 1, \"608\": 1, \"609\": 1, \"610\": 1, \"611\": 1, \"612\": 1, \"613\": 1, \"614\": 1, \"615\": 1, \"616\": 1, \"617\": 1, \"618\": 1, \"619\": 1, \"620\": 1, \"621\": 1, \"622\": 1, \"623\": 1, \"624\": 1, \"625\": 1, \"626\": 1, \"627\": 1, \"628\": 1, \"629\": 1, \"630\": 1, \"631\": 1, \"632\": 1, \"633\": 1, \"634\": 1, \"635\": 1, \"636\": 1, \"637\": 1, \"638\": 1, \"639\": 1, \"640\": 1, \"641\": 1, \"642\": 1, \"643\": 1, \"644\": 1, \"645\": 1, \"646\": 1, \"647\": 1, \"648\": 1, \"649\": 1, \"650\": 1, \"651\": 1, \"652\": 1, \"653\": 1, \"654\": 1, \"655\": 1, \"656\": 1, \"657\": 1, \"658\": 1, \"659\": 1, \"660\": 1, \"661\": 1, \"662\": 1, \"663\": 1, \"664\": 1, \"665\": 1, \"666\": 1, \"667\": 1, \"668\": 1, \"669\": 1, \"670\": 1, \"671\": 1, \"672\": 1, \"673\": 1, \"674\": 1, \"675\": 1, \"676\": 1, \"677\": 1, \"678\": 1, \"679\": 1, \"680\": 1, \"681\": 1, \"682\": 1, \"683\": 1, \"684\": 1, \"685\": 1, \"686\": 1, \"687\": 1, \"688\": 1, \"689\": 1, \"690\": 1, \"691\": 1, \"692\": 1, \"693\": 1, \"694\": 1, \"695\": 1, \"696\": 1, \"697\": 1, \"698\": 1, \"699\": 1, \"700\": 1, \"701\": 1, \"702\": 1, \"703\": 1, \"704\": 1, \"705\": 1, \"706\": 1, \"707\": 1, \"708\": 1, \"709\": 1, \"710\": 1, \"711\": 1, \"712\": 1, \"713\": 1, \"714\": 1, \"715\": 1, \"716\": 1, \"717\": 1, \"718\": 1, \"719\": 1, \"720\": 1, \"721\": 1, \"722\": 1, \"723\": 1, \"724\": 1, \"725\": 1, \"726\": 1, \"727\": 1, \"728\": 1, \"729\": 1, \"730\": 1, \"731\": 1, \"732\": 1, \"733\": 1, \"734\": 1, \"735\": 1, \"736\": 1, \"737\": 1, \"738\": 1, \"739\": 1, \"740\": 1, \"741\": 1, \"742\": 1, \"743\": 1, \"744\": 1, \"745\": 1, \"746\": 1, \"747\": 1, \"748\": 1, \"749\": 1, \"750\": 1, \"751\": 1, \"752\": 1, \"753\": 1, \"754\": 1, \"755\": 1, \"756\": 1, \"757\": 1, \"758\": 1, \"759\": 1, \"760\": 1, \"761\": 1, \"762\": 1, \"763\": 1, \"764\": 1, \"765\": 1, \"766\": 1, \"767\": 1, \"768\": 1, \"769\": 1, \"770\": 1, \"771\": 1, \"772\": 1, \"773\": 1, \"774\": 1, \"775\": 1, \"776\": 1, \"777\": 1, \"778\": 1, \"779\": 1, \"780\": 1, \"781\": 1, \"782\": 1, \"783\": 1, \"784\": 1, \"785\": 1, \"786\": 1, \"787\": 1, \"788\": 1, \"789\": 1, \"790\": 1, \"791\": 1, \"792\": 1, \"793\": 1, \"794\": 1, \"795\": 1, \"796\": 1, \"797\": 1, \"798\": 1, \"799\": 1, \"800\": 1, \"801\": 1, \"802\": 1, \"803\": 1, \"804\": 1, \"805\": 1, \"806\": 1, \"807\": 1, \"808\": 1, \"809\": 1, \"810\": 1, \"811\": 1, \"812\": 1, \"813\": 1, \"814\": 1, \"815\": 1, \"816\": 1, \"817\": 1, \"818\": 1, \"819\": 1, \"820\": 1, \"821\": 1, \"822\": 1, \"823\": 1, \"824\": 1, \"825\": 1, \"826\": 1, \"827\": 1, \"828\": 1, \"829\": 1, \"830\": 1, \"831\": 1, \"832\": 1, \"833\": 1, \"834\": 1, \"835\": 1, \"836\": 1, \"837\": 1, \"838\": 1, \"839\": 1, \"840\": 1, \"841\": 1, \"842\": 1, \"843\": 1, \"844\": 1, \"845\": 1, \"846\": 1, \"847\": 1, \"848\": 1, \"849\": 1, \"850\": 1, \"851\": 1, \"852\": 1, \"853\": 1, \"854\": 1, \"855\": 1, \"856\": 1, \"857\": 1, \"858\": 1, \"859\": 1, \"860\": 1, \"861\": 1, \"862\": 1, \"863\": 1, \"864\": 1, \"865\": 1, \"866\": 1, \"867\": 1, \"868\": 1, \"869\": 1, \"870\": 1, \"871\": 1, \"872\": 1, \"873\": 1, \"874\": 1, \"875\": 1, \"876\": 1, \"877\": 1, \"878\": 1, \"879\": 1}}'"
      ]
     },
     "execution_count": 18,
     "metadata": {},
     "output_type": "execute_result"
    }
   ],
   "source": [
    "result = predictor.predict(s3)\n",
    "result"
   ]
  },
  {
   "cell_type": "markdown",
   "id": "b9c4d7d0-4c19-496e-b038-271bdcc67ccd",
   "metadata": {},
   "source": [
    "# Tensorflow"
   ]
  },
  {
   "cell_type": "code",
   "execution_count": 19,
   "id": "c6876f1b-41c5-4456-985b-34d2a48d7a8e",
   "metadata": {
    "tags": []
   },
   "outputs": [],
   "source": [
    "instance_type = \"ml.c5.xlarge\"\n",
    "\n",
    "# model_data_url = \"s3://sagemaker-ap-south-1-720541911643/tensorflow-training-2023-10-03-12-32-37-552/output/model.tar.gz\" # CIFAR10\n",
    "model_data_url = \"s3://sagemaker-ap-south-1-720541911643/231010-062452-Fashion-Mnist-m5-xlarge-cpu-100e/output/model.tar.gz\" # MNIST fashion\n",
    "\n",
    "# image_url = \"763104351884.dkr.ecr.ap-south-1.amazonaws.com/tensorflow-serving:1.15.2-cpu-py3\" \n",
    "image_url = \"520713654638.dkr.ecr.ap-south-1.amazonaws.com/tensorflow-inference:1.14.0\""
   ]
  },
  {
   "cell_type": "code",
   "execution_count": 20,
   "id": "b58a56fa-90d9-4431-857a-601193aea08d",
   "metadata": {
    "tags": []
   },
   "outputs": [
    {
     "name": "stdout",
     "output_type": "stream",
     "text": [
      "sagemaker.config INFO - Not applying SDK defaults from location: /etc/xdg/sagemaker/config.yaml\n",
      "sagemaker.config INFO - Not applying SDK defaults from location: /root/.config/sagemaker/config.yaml\n",
      "sagemaker.config INFO - Not applying SDK defaults from location: /etc/xdg/sagemaker/config.yaml\n",
      "sagemaker.config INFO - Not applying SDK defaults from location: /root/.config/sagemaker/config.yaml\n",
      "---!"
     ]
    }
   ],
   "source": [
    "from sagemaker.tensorflow import TensorFlowModel\n",
    "\n",
    "model = TensorFlowModel(model_data=model_data_url, \n",
    "                        role = role, \n",
    "                        framework_version = \"1.15.2\", \n",
    "                        entry_point = \"inference.py\", \n",
    "                        source_dir = \"code\"\n",
    "                       )\n",
    "\n",
    "predictor = model.deploy(initial_instance_count=1, instance_type=instance_type, endpoint_name = \"tensorflow-inference-fashion-mnist-111\")"
   ]
  },
  {
   "cell_type": "code",
   "execution_count": 21,
   "id": "13944b56-fde3-4cfe-9043-d0e020a5402a",
   "metadata": {
    "tags": []
   },
   "outputs": [
    {
     "name": "stdout",
     "output_type": "stream",
     "text": [
      "sagemaker.config INFO - Not applying SDK defaults from location: /etc/xdg/sagemaker/config.yaml\n",
      "sagemaker.config INFO - Not applying SDK defaults from location: /root/.config/sagemaker/config.yaml\n"
     ]
    }
   ],
   "source": [
    "from sagemaker.serializers import JSONSerializer\n",
    "predictor = sagemaker.predictor.Predictor(endpoint_name = \"tensorflow-inference-fashion-mnist-111\",\n",
    "                                          serializer = JSONSerializer(),\n",
    "                                          # content_type  = \"text/csv\"\n",
    "                                         )"
   ]
  },
  {
   "cell_type": "code",
   "execution_count": 22,
   "id": "076e5912-7e5a-407f-ab93-ff84bd9b7f22",
   "metadata": {
    "tags": []
   },
   "outputs": [],
   "source": [
    "import numpy as np\n",
    "random_array = np.random.randn(28, 28)"
   ]
  },
  {
   "cell_type": "code",
   "execution_count": 23,
   "id": "4246f439-d4c2-4a1a-aa42-7a299daf4634",
   "metadata": {
    "tags": []
   },
   "outputs": [],
   "source": [
    "random_list = random_array.tolist()"
   ]
  },
  {
   "cell_type": "code",
   "execution_count": 24,
   "id": "ada8cbe4-ba6d-404f-b7f5-8940b4f6300d",
   "metadata": {
    "tags": []
   },
   "outputs": [],
   "source": [
    "inputs= {'instances': random_list}\n",
    "result = predictor.predict(inputs)"
   ]
  },
  {
   "cell_type": "code",
   "execution_count": 25,
   "id": "2032e579-d021-43fe-95a0-46d494bdfd4d",
   "metadata": {
    "tags": []
   },
   "outputs": [
    {
     "data": {
      "text/plain": [
       "b'{\\n    \"predictions\": [[0.0228216853, 0.0247749537, 0.555821061, 0.127348363, 0.044581335, 0.10335166, 0.0753519163, 0.0224879533, 0.00874781609, 0.0147132706]\\n    ]\\n}'"
      ]
     },
     "execution_count": 25,
     "metadata": {},
     "output_type": "execute_result"
    }
   ],
   "source": [
    "result"
   ]
  },
  {
   "cell_type": "code",
   "execution_count": 12,
   "id": "21ff5396-1504-4d4a-8356-3bfe4f47db0b",
   "metadata": {
    "tags": []
   },
   "outputs": [
    {
     "name": "stdout",
     "output_type": "stream",
     "text": [
      "/root/Endpoint\n"
     ]
    }
   ],
   "source": [
    "!pwd"
   ]
  },
  {
   "cell_type": "code",
   "execution_count": 26,
   "id": "18952402-b185-4276-a9ad-e900c708a6ca",
   "metadata": {
    "tags": []
   },
   "outputs": [],
   "source": [
    "(x_train, y_train), (x_test, y_test) = np.load(\"fashion_mnist.npy\", allow_pickle = True)"
   ]
  },
  {
   "cell_type": "code",
   "execution_count": 27,
   "id": "983d4383-4c1e-4cea-b297-e4626d9fdcd9",
   "metadata": {
    "tags": []
   },
   "outputs": [],
   "source": [
    "inputs= {'instances': x_test[0].tolist()}\n",
    "result = predictor.predict(inputs)"
   ]
  },
  {
   "cell_type": "code",
   "execution_count": 28,
   "id": "8e8aeaa5-7787-474a-8063-c6fe8b298191",
   "metadata": {
    "tags": []
   },
   "outputs": [
    {
     "data": {
      "text/plain": [
       "b'{\\n    \"predictions\": [[0.0, 0.0, 1.0, 0.0, 0.0, 0.0, 0.0, 0.0, 0.0, 0.0]\\n    ]\\n}'"
      ]
     },
     "execution_count": 28,
     "metadata": {},
     "output_type": "execute_result"
    }
   ],
   "source": [
    "result"
   ]
  },
  {
   "cell_type": "code",
   "execution_count": 21,
   "id": "2b750e84-bf44-4abe-8e1a-e9e33b68c9e1",
   "metadata": {
    "tags": []
   },
   "outputs": [
    {
     "data": {
      "text/plain": [
       "{'predictions': [[0.0, 0.0, 1.0, 0.0, 0.0, 0.0, 0.0, 0.0, 0.0, 0.0]]}"
      ]
     },
     "execution_count": 21,
     "metadata": {},
     "output_type": "execute_result"
    }
   ],
   "source": [
    "result"
   ]
  },
  {
   "cell_type": "code",
   "execution_count": 22,
   "id": "ba7446ac-c91d-4fb6-9a13-b1f738d96781",
   "metadata": {
    "tags": []
   },
   "outputs": [
    {
     "data": {
      "text/plain": [
       "9"
      ]
     },
     "execution_count": 22,
     "metadata": {},
     "output_type": "execute_result"
    }
   ],
   "source": [
    "y_test[0]"
   ]
  },
  {
   "cell_type": "code",
   "execution_count": 23,
   "id": "32b314c5-2f3d-4a85-990d-57f057e480cd",
   "metadata": {
    "tags": []
   },
   "outputs": [],
   "source": [
    "inputs= {'instances': [x_test[0].tolist(), x_test[1].tolist()]}\n",
    "result = predictor.predict(inputs)"
   ]
  },
  {
   "cell_type": "code",
   "execution_count": 24,
   "id": "538b2cf3-880b-4761-9944-3f14142f219f",
   "metadata": {
    "tags": []
   },
   "outputs": [
    {
     "data": {
      "text/plain": [
       "{'predictions': [[0.0, 0.0, 1.0, 0.0, 0.0, 0.0, 0.0, 0.0, 0.0, 0.0],\n",
       "  [0.0, 0.0, 1.0, 0.0, 0.0, 0.0, 0.0, 0.0, 0.0, 0.0]]}"
      ]
     },
     "execution_count": 24,
     "metadata": {},
     "output_type": "execute_result"
    }
   ],
   "source": [
    "result"
   ]
  },
  {
   "cell_type": "code",
   "execution_count": 26,
   "id": "4efc70b4-b839-4b94-af06-e3751ae62126",
   "metadata": {
    "tags": []
   },
   "outputs": [
    {
     "data": {
      "text/plain": [
       "<matplotlib.image.AxesImage at 0x7fd1ec5651b0>"
      ]
     },
     "execution_count": 26,
     "metadata": {},
     "output_type": "execute_result"
    },
    {
     "data": {
      "image/png": "[encoded data removed]",
      "text/plain": [
       "<Figure size 480x480 with 1 Axes>"
      ]
     },
     "metadata": {},
     "output_type": "display_data"
    }
   ],
   "source": [
    "import matplotlib.pyplot as plt\n",
    "plt.matshow(x_test[1])"
   ]
  },
  {
   "cell_type": "code",
   "execution_count": 27,
   "id": "f84e600b-0c2a-4880-b788-e7ff87aa3bcc",
   "metadata": {
    "tags": []
   },
   "outputs": [],
   "source": [
    "inputs= {'instances': [x_test[0].tolist(), x_test[1].tolist(), x_test[2].tolist(), x_test[3].tolist()]}\n",
    "result = predictor.predict(inputs)"
   ]
  },
  {
   "cell_type": "code",
   "execution_count": 28,
   "id": "2cdfbd76-ddbd-45fc-83f3-f213bae1534c",
   "metadata": {
    "tags": []
   },
   "outputs": [
    {
     "data": {
      "text/plain": [
       "{'predictions': [[0.0, 0.0, 1.0, 0.0, 0.0, 0.0, 0.0, 0.0, 0.0, 0.0],\n",
       "  [0.0, 0.0, 1.0, 0.0, 0.0, 0.0, 0.0, 0.0, 0.0, 0.0],\n",
       "  [0.0, 0.0, 1.0, 0.0, 0.0, 0.0, 0.0, 0.0, 0.0, 0.0],\n",
       "  [0.0, 0.0, 1.0, 0.0, 0.0, 0.0, 0.0, 0.0, 0.0, 0.0]]}"
      ]
     },
     "execution_count": 28,
     "metadata": {},
     "output_type": "execute_result"
    }
   ],
   "source": [
    "result"
   ]
  },
  {
   "cell_type": "code",
   "execution_count": 33,
   "id": "e66b02d4-79ac-4e89-add8-04474c446359",
   "metadata": {
    "tags": []
   },
   "outputs": [],
   "source": [
    "inputs= {'instances': x_train[1].tolist()}\n",
    "result = predictor.predict(inputs)"
   ]
  },
  {
   "cell_type": "code",
   "execution_count": 34,
   "id": "d409a1fd-10af-4bde-aa68-22e7b245f976",
   "metadata": {
    "tags": []
   },
   "outputs": [
    {
     "data": {
      "text/plain": [
       "{'predictions': [[0.0, 0.0, 1.0, 0.0, 0.0, 0.0, 0.0, 0.0, 0.0, 0.0]]}"
      ]
     },
     "execution_count": 34,
     "metadata": {},
     "output_type": "execute_result"
    }
   ],
   "source": [
    "result"
   ]
  },
  {
   "cell_type": "code",
   "execution_count": 31,
   "id": "f4225125-431c-43f4-b3fa-d11e248fb467",
   "metadata": {
    "tags": []
   },
   "outputs": [],
   "source": [
    "data_list = [x_test[i].tolist() for i in range(x_test.shape[0])]"
   ]
  },
  {
   "cell_type": "code",
   "execution_count": 32,
   "id": "14a9b520-d2b5-42a1-a3d4-e082d86d6c95",
   "metadata": {
    "tags": []
   },
   "outputs": [
    {
     "ename": "SSLError",
     "evalue": "SSL validation failed for https://runtime.sagemaker.ap-south-1.amazonaws.com/endpoints/tensorflow-inference-fashion-mnist-111/invocations EOF occurred in violation of protocol (_ssl.c:2396)",
     "output_type": "error",
     "traceback": [
      "\u001b[0;31m---------------------------------------------------------------------------\u001b[0m",
      "\u001b[0;31mSSLEOFError\u001b[0m                               Traceback (most recent call last)",
      "File \u001b[0;32m/opt/conda/lib/python3.10/site-packages/urllib3/connectionpool.py:790\u001b[0m, in \u001b[0;36mHTTPConnectionPool.urlopen\u001b[0;34m(self, method, url, body, headers, retries, redirect, assert_same_host, timeout, pool_timeout, release_conn, chunked, body_pos, preload_content, decode_content, **response_kw)\u001b[0m\n\u001b[1;32m    789\u001b[0m \u001b[38;5;66;03m# Make the request on the HTTPConnection object\u001b[39;00m\n\u001b[0;32m--> 790\u001b[0m response \u001b[38;5;241m=\u001b[39m \u001b[38;5;28;43mself\u001b[39;49m\u001b[38;5;241;43m.\u001b[39;49m\u001b[43m_make_request\u001b[49m\u001b[43m(\u001b[49m\n\u001b[1;32m    791\u001b[0m \u001b[43m    \u001b[49m\u001b[43mconn\u001b[49m\u001b[43m,\u001b[49m\n\u001b[1;32m    792\u001b[0m \u001b[43m    \u001b[49m\u001b[43mmethod\u001b[49m\u001b[43m,\u001b[49m\n\u001b[1;32m    793\u001b[0m \u001b[43m    \u001b[49m\u001b[43murl\u001b[49m\u001b[43m,\u001b[49m\n\u001b[1;32m    794\u001b[0m \u001b[43m    \u001b[49m\u001b[43mtimeout\u001b[49m\u001b[38;5;241;43m=\u001b[39;49m\u001b[43mtimeout_obj\u001b[49m\u001b[43m,\u001b[49m\n\u001b[1;32m    795\u001b[0m \u001b[43m    \u001b[49m\u001b[43mbody\u001b[49m\u001b[38;5;241;43m=\u001b[39;49m\u001b[43mbody\u001b[49m\u001b[43m,\u001b[49m\n\u001b[1;32m    796\u001b[0m \u001b[43m    \u001b[49m\u001b[43mheaders\u001b[49m\u001b[38;5;241;43m=\u001b[39;49m\u001b[43mheaders\u001b[49m\u001b[43m,\u001b[49m\n\u001b[1;32m    797\u001b[0m \u001b[43m    \u001b[49m\u001b[43mchunked\u001b[49m\u001b[38;5;241;43m=\u001b[39;49m\u001b[43mchunked\u001b[49m\u001b[43m,\u001b[49m\n\u001b[1;32m    798\u001b[0m \u001b[43m    \u001b[49m\u001b[43mretries\u001b[49m\u001b[38;5;241;43m=\u001b[39;49m\u001b[43mretries\u001b[49m\u001b[43m,\u001b[49m\n\u001b[1;32m    799\u001b[0m \u001b[43m    \u001b[49m\u001b[43mresponse_conn\u001b[49m\u001b[38;5;241;43m=\u001b[39;49m\u001b[43mresponse_conn\u001b[49m\u001b[43m,\u001b[49m\n\u001b[1;32m    800\u001b[0m \u001b[43m    \u001b[49m\u001b[43mpreload_content\u001b[49m\u001b[38;5;241;43m=\u001b[39;49m\u001b[43mpreload_content\u001b[49m\u001b[43m,\u001b[49m\n\u001b[1;32m    801\u001b[0m \u001b[43m    \u001b[49m\u001b[43mdecode_content\u001b[49m\u001b[38;5;241;43m=\u001b[39;49m\u001b[43mdecode_content\u001b[49m\u001b[43m,\u001b[49m\n\u001b[1;32m    802\u001b[0m \u001b[43m    \u001b[49m\u001b[38;5;241;43m*\u001b[39;49m\u001b[38;5;241;43m*\u001b[39;49m\u001b[43mresponse_kw\u001b[49m\u001b[43m,\u001b[49m\n\u001b[1;32m    803\u001b[0m \u001b[43m\u001b[49m\u001b[43m)\u001b[49m\n\u001b[1;32m    805\u001b[0m \u001b[38;5;66;03m# Everything went great!\u001b[39;00m\n",
      "File \u001b[0;32m/opt/conda/lib/python3.10/site-packages/urllib3/connectionpool.py:496\u001b[0m, in \u001b[0;36mHTTPConnectionPool._make_request\u001b[0;34m(self, conn, method, url, body, headers, retries, timeout, chunked, response_conn, preload_content, decode_content, enforce_content_length)\u001b[0m\n\u001b[1;32m    495\u001b[0m \u001b[38;5;28;01mtry\u001b[39;00m:\n\u001b[0;32m--> 496\u001b[0m     \u001b[43mconn\u001b[49m\u001b[38;5;241;43m.\u001b[39;49m\u001b[43mrequest\u001b[49m\u001b[43m(\u001b[49m\n\u001b[1;32m    497\u001b[0m \u001b[43m        \u001b[49m\u001b[43mmethod\u001b[49m\u001b[43m,\u001b[49m\n\u001b[1;32m    498\u001b[0m \u001b[43m        \u001b[49m\u001b[43murl\u001b[49m\u001b[43m,\u001b[49m\n\u001b[1;32m    499\u001b[0m \u001b[43m        \u001b[49m\u001b[43mbody\u001b[49m\u001b[38;5;241;43m=\u001b[39;49m\u001b[43mbody\u001b[49m\u001b[43m,\u001b[49m\n\u001b[1;32m    500\u001b[0m \u001b[43m        \u001b[49m\u001b[43mheaders\u001b[49m\u001b[38;5;241;43m=\u001b[39;49m\u001b[43mheaders\u001b[49m\u001b[43m,\u001b[49m\n\u001b[1;32m    501\u001b[0m \u001b[43m        \u001b[49m\u001b[43mchunked\u001b[49m\u001b[38;5;241;43m=\u001b[39;49m\u001b[43mchunked\u001b[49m\u001b[43m,\u001b[49m\n\u001b[1;32m    502\u001b[0m \u001b[43m        \u001b[49m\u001b[43mpreload_content\u001b[49m\u001b[38;5;241;43m=\u001b[39;49m\u001b[43mpreload_content\u001b[49m\u001b[43m,\u001b[49m\n\u001b[1;32m    503\u001b[0m \u001b[43m        \u001b[49m\u001b[43mdecode_content\u001b[49m\u001b[38;5;241;43m=\u001b[39;49m\u001b[43mdecode_content\u001b[49m\u001b[43m,\u001b[49m\n\u001b[1;32m    504\u001b[0m \u001b[43m        \u001b[49m\u001b[43menforce_content_length\u001b[49m\u001b[38;5;241;43m=\u001b[39;49m\u001b[43menforce_content_length\u001b[49m\u001b[43m,\u001b[49m\n\u001b[1;32m    505\u001b[0m \u001b[43m    \u001b[49m\u001b[43m)\u001b[49m\n\u001b[1;32m    507\u001b[0m \u001b[38;5;66;03m# We are swallowing BrokenPipeError (errno.EPIPE) since the server is\u001b[39;00m\n\u001b[1;32m    508\u001b[0m \u001b[38;5;66;03m# legitimately able to close the connection after sending a valid response.\u001b[39;00m\n\u001b[1;32m    509\u001b[0m \u001b[38;5;66;03m# With this behaviour, the received response is still readable.\u001b[39;00m\n",
      "File \u001b[0;32m/opt/conda/lib/python3.10/site-packages/botocore/awsrequest.py:96\u001b[0m, in \u001b[0;36mAWSConnection.request\u001b[0;34m(self, method, url, body, headers, *args, **kwargs)\u001b[0m\n\u001b[1;32m     95\u001b[0m     \u001b[38;5;28mself\u001b[39m\u001b[38;5;241m.\u001b[39mresponse_class \u001b[38;5;241m=\u001b[39m \u001b[38;5;28mself\u001b[39m\u001b[38;5;241m.\u001b[39m_original_response_cls\n\u001b[0;32m---> 96\u001b[0m rval \u001b[38;5;241m=\u001b[39m \u001b[38;5;28;43msuper\u001b[39;49m\u001b[43m(\u001b[49m\u001b[43m)\u001b[49m\u001b[38;5;241;43m.\u001b[39;49m\u001b[43mrequest\u001b[49m\u001b[43m(\u001b[49m\u001b[43mmethod\u001b[49m\u001b[43m,\u001b[49m\u001b[43m \u001b[49m\u001b[43murl\u001b[49m\u001b[43m,\u001b[49m\u001b[43m \u001b[49m\u001b[43mbody\u001b[49m\u001b[43m,\u001b[49m\u001b[43m \u001b[49m\u001b[43mheaders\u001b[49m\u001b[43m,\u001b[49m\u001b[43m \u001b[49m\u001b[38;5;241;43m*\u001b[39;49m\u001b[43margs\u001b[49m\u001b[43m,\u001b[49m\u001b[43m \u001b[49m\u001b[38;5;241;43m*\u001b[39;49m\u001b[38;5;241;43m*\u001b[39;49m\u001b[43mkwargs\u001b[49m\u001b[43m)\u001b[49m\n\u001b[1;32m     97\u001b[0m \u001b[38;5;28mself\u001b[39m\u001b[38;5;241m.\u001b[39m_expect_header_set \u001b[38;5;241m=\u001b[39m \u001b[38;5;28;01mFalse\u001b[39;00m\n",
      "File \u001b[0;32m/opt/conda/lib/python3.10/site-packages/urllib3/connection.py:409\u001b[0m, in \u001b[0;36mHTTPConnection.request\u001b[0;34m(self, method, url, body, headers, chunked, preload_content, decode_content, enforce_content_length)\u001b[0m\n\u001b[1;32m    408\u001b[0m         \u001b[38;5;28;01melse\u001b[39;00m:\n\u001b[0;32m--> 409\u001b[0m             \u001b[38;5;28;43mself\u001b[39;49m\u001b[38;5;241;43m.\u001b[39;49m\u001b[43msend\u001b[49m\u001b[43m(\u001b[49m\u001b[43mchunk\u001b[49m\u001b[43m)\u001b[49m\n\u001b[1;32m    411\u001b[0m \u001b[38;5;66;03m# Regardless of whether we have a body or not, if we're in\u001b[39;00m\n\u001b[1;32m    412\u001b[0m \u001b[38;5;66;03m# chunked mode we want to send an explicit empty chunk.\u001b[39;00m\n",
      "File \u001b[0;32m/opt/conda/lib/python3.10/site-packages/botocore/awsrequest.py:223\u001b[0m, in \u001b[0;36mAWSConnection.send\u001b[0;34m(self, str)\u001b[0m\n\u001b[1;32m    222\u001b[0m     \u001b[38;5;28;01mreturn\u001b[39;00m\n\u001b[0;32m--> 223\u001b[0m \u001b[38;5;28;01mreturn\u001b[39;00m \u001b[38;5;28;43msuper\u001b[39;49m\u001b[43m(\u001b[49m\u001b[43m)\u001b[49m\u001b[38;5;241;43m.\u001b[39;49m\u001b[43msend\u001b[49m\u001b[43m(\u001b[49m\u001b[38;5;28;43mstr\u001b[39;49m\u001b[43m)\u001b[49m\n",
      "File \u001b[0;32m/opt/conda/lib/python3.10/http/client.py:998\u001b[0m, in \u001b[0;36mHTTPConnection.send\u001b[0;34m(self, data)\u001b[0m\n\u001b[1;32m    997\u001b[0m \u001b[38;5;28;01mtry\u001b[39;00m:\n\u001b[0;32m--> 998\u001b[0m     \u001b[38;5;28;43mself\u001b[39;49m\u001b[38;5;241;43m.\u001b[39;49m\u001b[43msock\u001b[49m\u001b[38;5;241;43m.\u001b[39;49m\u001b[43msendall\u001b[49m\u001b[43m(\u001b[49m\u001b[43mdata\u001b[49m\u001b[43m)\u001b[49m\n\u001b[1;32m    999\u001b[0m \u001b[38;5;28;01mexcept\u001b[39;00m \u001b[38;5;167;01mTypeError\u001b[39;00m:\n",
      "File \u001b[0;32m/opt/conda/lib/python3.10/ssl.py:1237\u001b[0m, in \u001b[0;36mSSLSocket.sendall\u001b[0;34m(self, data, flags)\u001b[0m\n\u001b[1;32m   1236\u001b[0m \u001b[38;5;28;01mwhile\u001b[39;00m count \u001b[38;5;241m<\u001b[39m amount:\n\u001b[0;32m-> 1237\u001b[0m     v \u001b[38;5;241m=\u001b[39m \u001b[38;5;28;43mself\u001b[39;49m\u001b[38;5;241;43m.\u001b[39;49m\u001b[43msend\u001b[49m\u001b[43m(\u001b[49m\u001b[43mbyte_view\u001b[49m\u001b[43m[\u001b[49m\u001b[43mcount\u001b[49m\u001b[43m:\u001b[49m\u001b[43m]\u001b[49m\u001b[43m)\u001b[49m\n\u001b[1;32m   1238\u001b[0m     count \u001b[38;5;241m+\u001b[39m\u001b[38;5;241m=\u001b[39m v\n",
      "File \u001b[0;32m/opt/conda/lib/python3.10/ssl.py:1206\u001b[0m, in \u001b[0;36mSSLSocket.send\u001b[0;34m(self, data, flags)\u001b[0m\n\u001b[1;32m   1203\u001b[0m         \u001b[38;5;28;01mraise\u001b[39;00m \u001b[38;5;167;01mValueError\u001b[39;00m(\n\u001b[1;32m   1204\u001b[0m             \u001b[38;5;124m\"\u001b[39m\u001b[38;5;124mnon-zero flags not allowed in calls to send() on \u001b[39m\u001b[38;5;132;01m%s\u001b[39;00m\u001b[38;5;124m\"\u001b[39m \u001b[38;5;241m%\u001b[39m\n\u001b[1;32m   1205\u001b[0m             \u001b[38;5;28mself\u001b[39m\u001b[38;5;241m.\u001b[39m\u001b[38;5;18m__class__\u001b[39m)\n\u001b[0;32m-> 1206\u001b[0m     \u001b[38;5;28;01mreturn\u001b[39;00m \u001b[38;5;28;43mself\u001b[39;49m\u001b[38;5;241;43m.\u001b[39;49m\u001b[43m_sslobj\u001b[49m\u001b[38;5;241;43m.\u001b[39;49m\u001b[43mwrite\u001b[49m\u001b[43m(\u001b[49m\u001b[43mdata\u001b[49m\u001b[43m)\u001b[49m\n\u001b[1;32m   1207\u001b[0m \u001b[38;5;28;01melse\u001b[39;00m:\n",
      "\u001b[0;31mSSLEOFError\u001b[0m: EOF occurred in violation of protocol (_ssl.c:2396)",
      "\nDuring handling of the above exception, another exception occurred:\n",
      "\u001b[0;31mSSLError\u001b[0m                                  Traceback (most recent call last)",
      "File \u001b[0;32m/opt/conda/lib/python3.10/site-packages/botocore/httpsession.py:465\u001b[0m, in \u001b[0;36mURLLib3Session.send\u001b[0;34m(self, request)\u001b[0m\n\u001b[1;32m    464\u001b[0m request_target \u001b[38;5;241m=\u001b[39m \u001b[38;5;28mself\u001b[39m\u001b[38;5;241m.\u001b[39m_get_request_target(request\u001b[38;5;241m.\u001b[39murl, proxy_url)\n\u001b[0;32m--> 465\u001b[0m urllib_response \u001b[38;5;241m=\u001b[39m \u001b[43mconn\u001b[49m\u001b[38;5;241;43m.\u001b[39;49m\u001b[43murlopen\u001b[49m\u001b[43m(\u001b[49m\n\u001b[1;32m    466\u001b[0m \u001b[43m    \u001b[49m\u001b[43mmethod\u001b[49m\u001b[38;5;241;43m=\u001b[39;49m\u001b[43mrequest\u001b[49m\u001b[38;5;241;43m.\u001b[39;49m\u001b[43mmethod\u001b[49m\u001b[43m,\u001b[49m\n\u001b[1;32m    467\u001b[0m \u001b[43m    \u001b[49m\u001b[43murl\u001b[49m\u001b[38;5;241;43m=\u001b[39;49m\u001b[43mrequest_target\u001b[49m\u001b[43m,\u001b[49m\n\u001b[1;32m    468\u001b[0m \u001b[43m    \u001b[49m\u001b[43mbody\u001b[49m\u001b[38;5;241;43m=\u001b[39;49m\u001b[43mrequest\u001b[49m\u001b[38;5;241;43m.\u001b[39;49m\u001b[43mbody\u001b[49m\u001b[43m,\u001b[49m\n\u001b[1;32m    469\u001b[0m \u001b[43m    \u001b[49m\u001b[43mheaders\u001b[49m\u001b[38;5;241;43m=\u001b[39;49m\u001b[43mrequest\u001b[49m\u001b[38;5;241;43m.\u001b[39;49m\u001b[43mheaders\u001b[49m\u001b[43m,\u001b[49m\n\u001b[1;32m    470\u001b[0m \u001b[43m    \u001b[49m\u001b[43mretries\u001b[49m\u001b[38;5;241;43m=\u001b[39;49m\u001b[43mRetry\u001b[49m\u001b[43m(\u001b[49m\u001b[38;5;28;43;01mFalse\u001b[39;49;00m\u001b[43m)\u001b[49m\u001b[43m,\u001b[49m\n\u001b[1;32m    471\u001b[0m \u001b[43m    \u001b[49m\u001b[43massert_same_host\u001b[49m\u001b[38;5;241;43m=\u001b[39;49m\u001b[38;5;28;43;01mFalse\u001b[39;49;00m\u001b[43m,\u001b[49m\n\u001b[1;32m    472\u001b[0m \u001b[43m    \u001b[49m\u001b[43mpreload_content\u001b[49m\u001b[38;5;241;43m=\u001b[39;49m\u001b[38;5;28;43;01mFalse\u001b[39;49;00m\u001b[43m,\u001b[49m\n\u001b[1;32m    473\u001b[0m \u001b[43m    \u001b[49m\u001b[43mdecode_content\u001b[49m\u001b[38;5;241;43m=\u001b[39;49m\u001b[38;5;28;43;01mFalse\u001b[39;49;00m\u001b[43m,\u001b[49m\n\u001b[1;32m    474\u001b[0m \u001b[43m    \u001b[49m\u001b[43mchunked\u001b[49m\u001b[38;5;241;43m=\u001b[39;49m\u001b[38;5;28;43mself\u001b[39;49m\u001b[38;5;241;43m.\u001b[39;49m\u001b[43m_chunked\u001b[49m\u001b[43m(\u001b[49m\u001b[43mrequest\u001b[49m\u001b[38;5;241;43m.\u001b[39;49m\u001b[43mheaders\u001b[49m\u001b[43m)\u001b[49m\u001b[43m,\u001b[49m\n\u001b[1;32m    475\u001b[0m \u001b[43m\u001b[49m\u001b[43m)\u001b[49m\n\u001b[1;32m    477\u001b[0m http_response \u001b[38;5;241m=\u001b[39m botocore\u001b[38;5;241m.\u001b[39mawsrequest\u001b[38;5;241m.\u001b[39mAWSResponse(\n\u001b[1;32m    478\u001b[0m     request\u001b[38;5;241m.\u001b[39murl,\n\u001b[1;32m    479\u001b[0m     urllib_response\u001b[38;5;241m.\u001b[39mstatus,\n\u001b[1;32m    480\u001b[0m     urllib_response\u001b[38;5;241m.\u001b[39mheaders,\n\u001b[1;32m    481\u001b[0m     urllib_response,\n\u001b[1;32m    482\u001b[0m )\n",
      "File \u001b[0;32m/opt/conda/lib/python3.10/site-packages/urllib3/connectionpool.py:844\u001b[0m, in \u001b[0;36mHTTPConnectionPool.urlopen\u001b[0;34m(self, method, url, body, headers, retries, redirect, assert_same_host, timeout, pool_timeout, release_conn, chunked, body_pos, preload_content, decode_content, **response_kw)\u001b[0m\n\u001b[1;32m    842\u001b[0m     new_e \u001b[38;5;241m=\u001b[39m ProtocolError(\u001b[38;5;124m\"\u001b[39m\u001b[38;5;124mConnection aborted.\u001b[39m\u001b[38;5;124m\"\u001b[39m, new_e)\n\u001b[0;32m--> 844\u001b[0m retries \u001b[38;5;241m=\u001b[39m \u001b[43mretries\u001b[49m\u001b[38;5;241;43m.\u001b[39;49m\u001b[43mincrement\u001b[49m\u001b[43m(\u001b[49m\n\u001b[1;32m    845\u001b[0m \u001b[43m    \u001b[49m\u001b[43mmethod\u001b[49m\u001b[43m,\u001b[49m\u001b[43m \u001b[49m\u001b[43murl\u001b[49m\u001b[43m,\u001b[49m\u001b[43m \u001b[49m\u001b[43merror\u001b[49m\u001b[38;5;241;43m=\u001b[39;49m\u001b[43mnew_e\u001b[49m\u001b[43m,\u001b[49m\u001b[43m \u001b[49m\u001b[43m_pool\u001b[49m\u001b[38;5;241;43m=\u001b[39;49m\u001b[38;5;28;43mself\u001b[39;49m\u001b[43m,\u001b[49m\u001b[43m \u001b[49m\u001b[43m_stacktrace\u001b[49m\u001b[38;5;241;43m=\u001b[39;49m\u001b[43msys\u001b[49m\u001b[38;5;241;43m.\u001b[39;49m\u001b[43mexc_info\u001b[49m\u001b[43m(\u001b[49m\u001b[43m)\u001b[49m\u001b[43m[\u001b[49m\u001b[38;5;241;43m2\u001b[39;49m\u001b[43m]\u001b[49m\n\u001b[1;32m    846\u001b[0m \u001b[43m\u001b[49m\u001b[43m)\u001b[49m\n\u001b[1;32m    847\u001b[0m retries\u001b[38;5;241m.\u001b[39msleep()\n",
      "File \u001b[0;32m/opt/conda/lib/python3.10/site-packages/urllib3/util/retry.py:445\u001b[0m, in \u001b[0;36mRetry.increment\u001b[0;34m(self, method, url, response, error, _pool, _stacktrace)\u001b[0m\n\u001b[1;32m    443\u001b[0m \u001b[38;5;28;01mif\u001b[39;00m \u001b[38;5;28mself\u001b[39m\u001b[38;5;241m.\u001b[39mtotal \u001b[38;5;129;01mis\u001b[39;00m \u001b[38;5;28;01mFalse\u001b[39;00m \u001b[38;5;129;01mand\u001b[39;00m error:\n\u001b[1;32m    444\u001b[0m     \u001b[38;5;66;03m# Disabled, indicate to re-raise the error.\u001b[39;00m\n\u001b[0;32m--> 445\u001b[0m     \u001b[38;5;28;01mraise\u001b[39;00m \u001b[43mreraise\u001b[49m\u001b[43m(\u001b[49m\u001b[38;5;28;43mtype\u001b[39;49m\u001b[43m(\u001b[49m\u001b[43merror\u001b[49m\u001b[43m)\u001b[49m\u001b[43m,\u001b[49m\u001b[43m \u001b[49m\u001b[43merror\u001b[49m\u001b[43m,\u001b[49m\u001b[43m \u001b[49m\u001b[43m_stacktrace\u001b[49m\u001b[43m)\u001b[49m\n\u001b[1;32m    447\u001b[0m total \u001b[38;5;241m=\u001b[39m \u001b[38;5;28mself\u001b[39m\u001b[38;5;241m.\u001b[39mtotal\n",
      "File \u001b[0;32m/opt/conda/lib/python3.10/site-packages/urllib3/util/util.py:38\u001b[0m, in \u001b[0;36mreraise\u001b[0;34m(tp, value, tb)\u001b[0m\n\u001b[1;32m     37\u001b[0m \u001b[38;5;28;01mif\u001b[39;00m value\u001b[38;5;241m.\u001b[39m__traceback__ \u001b[38;5;129;01mis\u001b[39;00m \u001b[38;5;129;01mnot\u001b[39;00m tb:\n\u001b[0;32m---> 38\u001b[0m     \u001b[38;5;28;01mraise\u001b[39;00m value\u001b[38;5;241m.\u001b[39mwith_traceback(tb)\n\u001b[1;32m     39\u001b[0m \u001b[38;5;28;01mraise\u001b[39;00m value\n",
      "File \u001b[0;32m/opt/conda/lib/python3.10/site-packages/urllib3/connectionpool.py:790\u001b[0m, in \u001b[0;36mHTTPConnectionPool.urlopen\u001b[0;34m(self, method, url, body, headers, retries, redirect, assert_same_host, timeout, pool_timeout, release_conn, chunked, body_pos, preload_content, decode_content, **response_kw)\u001b[0m\n\u001b[1;32m    789\u001b[0m \u001b[38;5;66;03m# Make the request on the HTTPConnection object\u001b[39;00m\n\u001b[0;32m--> 790\u001b[0m response \u001b[38;5;241m=\u001b[39m \u001b[38;5;28;43mself\u001b[39;49m\u001b[38;5;241;43m.\u001b[39;49m\u001b[43m_make_request\u001b[49m\u001b[43m(\u001b[49m\n\u001b[1;32m    791\u001b[0m \u001b[43m    \u001b[49m\u001b[43mconn\u001b[49m\u001b[43m,\u001b[49m\n\u001b[1;32m    792\u001b[0m \u001b[43m    \u001b[49m\u001b[43mmethod\u001b[49m\u001b[43m,\u001b[49m\n\u001b[1;32m    793\u001b[0m \u001b[43m    \u001b[49m\u001b[43murl\u001b[49m\u001b[43m,\u001b[49m\n\u001b[1;32m    794\u001b[0m \u001b[43m    \u001b[49m\u001b[43mtimeout\u001b[49m\u001b[38;5;241;43m=\u001b[39;49m\u001b[43mtimeout_obj\u001b[49m\u001b[43m,\u001b[49m\n\u001b[1;32m    795\u001b[0m \u001b[43m    \u001b[49m\u001b[43mbody\u001b[49m\u001b[38;5;241;43m=\u001b[39;49m\u001b[43mbody\u001b[49m\u001b[43m,\u001b[49m\n\u001b[1;32m    796\u001b[0m \u001b[43m    \u001b[49m\u001b[43mheaders\u001b[49m\u001b[38;5;241;43m=\u001b[39;49m\u001b[43mheaders\u001b[49m\u001b[43m,\u001b[49m\n\u001b[1;32m    797\u001b[0m \u001b[43m    \u001b[49m\u001b[43mchunked\u001b[49m\u001b[38;5;241;43m=\u001b[39;49m\u001b[43mchunked\u001b[49m\u001b[43m,\u001b[49m\n\u001b[1;32m    798\u001b[0m \u001b[43m    \u001b[49m\u001b[43mretries\u001b[49m\u001b[38;5;241;43m=\u001b[39;49m\u001b[43mretries\u001b[49m\u001b[43m,\u001b[49m\n\u001b[1;32m    799\u001b[0m \u001b[43m    \u001b[49m\u001b[43mresponse_conn\u001b[49m\u001b[38;5;241;43m=\u001b[39;49m\u001b[43mresponse_conn\u001b[49m\u001b[43m,\u001b[49m\n\u001b[1;32m    800\u001b[0m \u001b[43m    \u001b[49m\u001b[43mpreload_content\u001b[49m\u001b[38;5;241;43m=\u001b[39;49m\u001b[43mpreload_content\u001b[49m\u001b[43m,\u001b[49m\n\u001b[1;32m    801\u001b[0m \u001b[43m    \u001b[49m\u001b[43mdecode_content\u001b[49m\u001b[38;5;241;43m=\u001b[39;49m\u001b[43mdecode_content\u001b[49m\u001b[43m,\u001b[49m\n\u001b[1;32m    802\u001b[0m \u001b[43m    \u001b[49m\u001b[38;5;241;43m*\u001b[39;49m\u001b[38;5;241;43m*\u001b[39;49m\u001b[43mresponse_kw\u001b[49m\u001b[43m,\u001b[49m\n\u001b[1;32m    803\u001b[0m \u001b[43m\u001b[49m\u001b[43m)\u001b[49m\n\u001b[1;32m    805\u001b[0m \u001b[38;5;66;03m# Everything went great!\u001b[39;00m\n",
      "File \u001b[0;32m/opt/conda/lib/python3.10/site-packages/urllib3/connectionpool.py:496\u001b[0m, in \u001b[0;36mHTTPConnectionPool._make_request\u001b[0;34m(self, conn, method, url, body, headers, retries, timeout, chunked, response_conn, preload_content, decode_content, enforce_content_length)\u001b[0m\n\u001b[1;32m    495\u001b[0m \u001b[38;5;28;01mtry\u001b[39;00m:\n\u001b[0;32m--> 496\u001b[0m     \u001b[43mconn\u001b[49m\u001b[38;5;241;43m.\u001b[39;49m\u001b[43mrequest\u001b[49m\u001b[43m(\u001b[49m\n\u001b[1;32m    497\u001b[0m \u001b[43m        \u001b[49m\u001b[43mmethod\u001b[49m\u001b[43m,\u001b[49m\n\u001b[1;32m    498\u001b[0m \u001b[43m        \u001b[49m\u001b[43murl\u001b[49m\u001b[43m,\u001b[49m\n\u001b[1;32m    499\u001b[0m \u001b[43m        \u001b[49m\u001b[43mbody\u001b[49m\u001b[38;5;241;43m=\u001b[39;49m\u001b[43mbody\u001b[49m\u001b[43m,\u001b[49m\n\u001b[1;32m    500\u001b[0m \u001b[43m        \u001b[49m\u001b[43mheaders\u001b[49m\u001b[38;5;241;43m=\u001b[39;49m\u001b[43mheaders\u001b[49m\u001b[43m,\u001b[49m\n\u001b[1;32m    501\u001b[0m \u001b[43m        \u001b[49m\u001b[43mchunked\u001b[49m\u001b[38;5;241;43m=\u001b[39;49m\u001b[43mchunked\u001b[49m\u001b[43m,\u001b[49m\n\u001b[1;32m    502\u001b[0m \u001b[43m        \u001b[49m\u001b[43mpreload_content\u001b[49m\u001b[38;5;241;43m=\u001b[39;49m\u001b[43mpreload_content\u001b[49m\u001b[43m,\u001b[49m\n\u001b[1;32m    503\u001b[0m \u001b[43m        \u001b[49m\u001b[43mdecode_content\u001b[49m\u001b[38;5;241;43m=\u001b[39;49m\u001b[43mdecode_content\u001b[49m\u001b[43m,\u001b[49m\n\u001b[1;32m    504\u001b[0m \u001b[43m        \u001b[49m\u001b[43menforce_content_length\u001b[49m\u001b[38;5;241;43m=\u001b[39;49m\u001b[43menforce_content_length\u001b[49m\u001b[43m,\u001b[49m\n\u001b[1;32m    505\u001b[0m \u001b[43m    \u001b[49m\u001b[43m)\u001b[49m\n\u001b[1;32m    507\u001b[0m \u001b[38;5;66;03m# We are swallowing BrokenPipeError (errno.EPIPE) since the server is\u001b[39;00m\n\u001b[1;32m    508\u001b[0m \u001b[38;5;66;03m# legitimately able to close the connection after sending a valid response.\u001b[39;00m\n\u001b[1;32m    509\u001b[0m \u001b[38;5;66;03m# With this behaviour, the received response is still readable.\u001b[39;00m\n",
      "File \u001b[0;32m/opt/conda/lib/python3.10/site-packages/botocore/awsrequest.py:96\u001b[0m, in \u001b[0;36mAWSConnection.request\u001b[0;34m(self, method, url, body, headers, *args, **kwargs)\u001b[0m\n\u001b[1;32m     95\u001b[0m     \u001b[38;5;28mself\u001b[39m\u001b[38;5;241m.\u001b[39mresponse_class \u001b[38;5;241m=\u001b[39m \u001b[38;5;28mself\u001b[39m\u001b[38;5;241m.\u001b[39m_original_response_cls\n\u001b[0;32m---> 96\u001b[0m rval \u001b[38;5;241m=\u001b[39m \u001b[38;5;28;43msuper\u001b[39;49m\u001b[43m(\u001b[49m\u001b[43m)\u001b[49m\u001b[38;5;241;43m.\u001b[39;49m\u001b[43mrequest\u001b[49m\u001b[43m(\u001b[49m\u001b[43mmethod\u001b[49m\u001b[43m,\u001b[49m\u001b[43m \u001b[49m\u001b[43murl\u001b[49m\u001b[43m,\u001b[49m\u001b[43m \u001b[49m\u001b[43mbody\u001b[49m\u001b[43m,\u001b[49m\u001b[43m \u001b[49m\u001b[43mheaders\u001b[49m\u001b[43m,\u001b[49m\u001b[43m \u001b[49m\u001b[38;5;241;43m*\u001b[39;49m\u001b[43margs\u001b[49m\u001b[43m,\u001b[49m\u001b[43m \u001b[49m\u001b[38;5;241;43m*\u001b[39;49m\u001b[38;5;241;43m*\u001b[39;49m\u001b[43mkwargs\u001b[49m\u001b[43m)\u001b[49m\n\u001b[1;32m     97\u001b[0m \u001b[38;5;28mself\u001b[39m\u001b[38;5;241m.\u001b[39m_expect_header_set \u001b[38;5;241m=\u001b[39m \u001b[38;5;28;01mFalse\u001b[39;00m\n",
      "File \u001b[0;32m/opt/conda/lib/python3.10/site-packages/urllib3/connection.py:409\u001b[0m, in \u001b[0;36mHTTPConnection.request\u001b[0;34m(self, method, url, body, headers, chunked, preload_content, decode_content, enforce_content_length)\u001b[0m\n\u001b[1;32m    408\u001b[0m         \u001b[38;5;28;01melse\u001b[39;00m:\n\u001b[0;32m--> 409\u001b[0m             \u001b[38;5;28;43mself\u001b[39;49m\u001b[38;5;241;43m.\u001b[39;49m\u001b[43msend\u001b[49m\u001b[43m(\u001b[49m\u001b[43mchunk\u001b[49m\u001b[43m)\u001b[49m\n\u001b[1;32m    411\u001b[0m \u001b[38;5;66;03m# Regardless of whether we have a body or not, if we're in\u001b[39;00m\n\u001b[1;32m    412\u001b[0m \u001b[38;5;66;03m# chunked mode we want to send an explicit empty chunk.\u001b[39;00m\n",
      "File \u001b[0;32m/opt/conda/lib/python3.10/site-packages/botocore/awsrequest.py:223\u001b[0m, in \u001b[0;36mAWSConnection.send\u001b[0;34m(self, str)\u001b[0m\n\u001b[1;32m    222\u001b[0m     \u001b[38;5;28;01mreturn\u001b[39;00m\n\u001b[0;32m--> 223\u001b[0m \u001b[38;5;28;01mreturn\u001b[39;00m \u001b[38;5;28;43msuper\u001b[39;49m\u001b[43m(\u001b[49m\u001b[43m)\u001b[49m\u001b[38;5;241;43m.\u001b[39;49m\u001b[43msend\u001b[49m\u001b[43m(\u001b[49m\u001b[38;5;28;43mstr\u001b[39;49m\u001b[43m)\u001b[49m\n",
      "File \u001b[0;32m/opt/conda/lib/python3.10/http/client.py:998\u001b[0m, in \u001b[0;36mHTTPConnection.send\u001b[0;34m(self, data)\u001b[0m\n\u001b[1;32m    997\u001b[0m \u001b[38;5;28;01mtry\u001b[39;00m:\n\u001b[0;32m--> 998\u001b[0m     \u001b[38;5;28;43mself\u001b[39;49m\u001b[38;5;241;43m.\u001b[39;49m\u001b[43msock\u001b[49m\u001b[38;5;241;43m.\u001b[39;49m\u001b[43msendall\u001b[49m\u001b[43m(\u001b[49m\u001b[43mdata\u001b[49m\u001b[43m)\u001b[49m\n\u001b[1;32m    999\u001b[0m \u001b[38;5;28;01mexcept\u001b[39;00m \u001b[38;5;167;01mTypeError\u001b[39;00m:\n",
      "File \u001b[0;32m/opt/conda/lib/python3.10/ssl.py:1237\u001b[0m, in \u001b[0;36mSSLSocket.sendall\u001b[0;34m(self, data, flags)\u001b[0m\n\u001b[1;32m   1236\u001b[0m \u001b[38;5;28;01mwhile\u001b[39;00m count \u001b[38;5;241m<\u001b[39m amount:\n\u001b[0;32m-> 1237\u001b[0m     v \u001b[38;5;241m=\u001b[39m \u001b[38;5;28;43mself\u001b[39;49m\u001b[38;5;241;43m.\u001b[39;49m\u001b[43msend\u001b[49m\u001b[43m(\u001b[49m\u001b[43mbyte_view\u001b[49m\u001b[43m[\u001b[49m\u001b[43mcount\u001b[49m\u001b[43m:\u001b[49m\u001b[43m]\u001b[49m\u001b[43m)\u001b[49m\n\u001b[1;32m   1238\u001b[0m     count \u001b[38;5;241m+\u001b[39m\u001b[38;5;241m=\u001b[39m v\n",
      "File \u001b[0;32m/opt/conda/lib/python3.10/ssl.py:1206\u001b[0m, in \u001b[0;36mSSLSocket.send\u001b[0;34m(self, data, flags)\u001b[0m\n\u001b[1;32m   1203\u001b[0m         \u001b[38;5;28;01mraise\u001b[39;00m \u001b[38;5;167;01mValueError\u001b[39;00m(\n\u001b[1;32m   1204\u001b[0m             \u001b[38;5;124m\"\u001b[39m\u001b[38;5;124mnon-zero flags not allowed in calls to send() on \u001b[39m\u001b[38;5;132;01m%s\u001b[39;00m\u001b[38;5;124m\"\u001b[39m \u001b[38;5;241m%\u001b[39m\n\u001b[1;32m   1205\u001b[0m             \u001b[38;5;28mself\u001b[39m\u001b[38;5;241m.\u001b[39m\u001b[38;5;18m__class__\u001b[39m)\n\u001b[0;32m-> 1206\u001b[0m     \u001b[38;5;28;01mreturn\u001b[39;00m \u001b[38;5;28;43mself\u001b[39;49m\u001b[38;5;241;43m.\u001b[39;49m\u001b[43m_sslobj\u001b[49m\u001b[38;5;241;43m.\u001b[39;49m\u001b[43mwrite\u001b[49m\u001b[43m(\u001b[49m\u001b[43mdata\u001b[49m\u001b[43m)\u001b[49m\n\u001b[1;32m   1207\u001b[0m \u001b[38;5;28;01melse\u001b[39;00m:\n",
      "\u001b[0;31mSSLError\u001b[0m: EOF occurred in violation of protocol (_ssl.c:2396)",
      "\nDuring handling of the above exception, another exception occurred:\n",
      "\u001b[0;31mSSLError\u001b[0m                                  Traceback (most recent call last)",
      "Cell \u001b[0;32mIn[32], line 2\u001b[0m\n\u001b[1;32m      1\u001b[0m inputs\u001b[38;5;241m=\u001b[39m {\u001b[38;5;124m'\u001b[39m\u001b[38;5;124minstances\u001b[39m\u001b[38;5;124m'\u001b[39m: data_list}\n\u001b[0;32m----> 2\u001b[0m result \u001b[38;5;241m=\u001b[39m \u001b[43mpredictor\u001b[49m\u001b[38;5;241;43m.\u001b[39;49m\u001b[43mpredict\u001b[49m\u001b[43m(\u001b[49m\u001b[43minputs\u001b[49m\u001b[43m)\u001b[49m\n",
      "File \u001b[0;32m/opt/conda/lib/python3.10/site-packages/sagemaker/tensorflow/model.py:114\u001b[0m, in \u001b[0;36mTensorFlowPredictor.predict\u001b[0;34m(self, data, initial_args)\u001b[0m\n\u001b[1;32m    111\u001b[0m     \u001b[38;5;28;01melse\u001b[39;00m:\n\u001b[1;32m    112\u001b[0m         args[\u001b[38;5;124m\"\u001b[39m\u001b[38;5;124mCustomAttributes\u001b[39m\u001b[38;5;124m\"\u001b[39m] \u001b[38;5;241m=\u001b[39m \u001b[38;5;28mself\u001b[39m\u001b[38;5;241m.\u001b[39m_model_attributes\n\u001b[0;32m--> 114\u001b[0m \u001b[38;5;28;01mreturn\u001b[39;00m \u001b[38;5;28;43msuper\u001b[39;49m\u001b[43m(\u001b[49m\u001b[43mTensorFlowPredictor\u001b[49m\u001b[43m,\u001b[49m\u001b[43m \u001b[49m\u001b[38;5;28;43mself\u001b[39;49m\u001b[43m)\u001b[49m\u001b[38;5;241;43m.\u001b[39;49m\u001b[43mpredict\u001b[49m\u001b[43m(\u001b[49m\u001b[43mdata\u001b[49m\u001b[43m,\u001b[49m\u001b[43m \u001b[49m\u001b[43margs\u001b[49m\u001b[43m)\u001b[49m\n",
      "File \u001b[0;32m/opt/conda/lib/python3.10/site-packages/sagemaker/base_predictor.py:185\u001b[0m, in \u001b[0;36mPredictor.predict\u001b[0;34m(self, data, initial_args, target_model, target_variant, inference_id, custom_attributes)\u001b[0m\n\u001b[1;32m    138\u001b[0m \u001b[38;5;250m\u001b[39m\u001b[38;5;124;03m\"\"\"Return the inference from the specified endpoint.\u001b[39;00m\n\u001b[1;32m    139\u001b[0m \n\u001b[1;32m    140\u001b[0m \u001b[38;5;124;03mArgs:\u001b[39;00m\n\u001b[0;32m   (...)\u001b[0m\n\u001b[1;32m    174\u001b[0m \u001b[38;5;124;03m        as is.\u001b[39;00m\n\u001b[1;32m    175\u001b[0m \u001b[38;5;124;03m\"\"\"\u001b[39;00m\n\u001b[1;32m    177\u001b[0m request_args \u001b[38;5;241m=\u001b[39m \u001b[38;5;28mself\u001b[39m\u001b[38;5;241m.\u001b[39m_create_request_args(\n\u001b[1;32m    178\u001b[0m     data,\n\u001b[1;32m    179\u001b[0m     initial_args,\n\u001b[0;32m   (...)\u001b[0m\n\u001b[1;32m    183\u001b[0m     custom_attributes,\n\u001b[1;32m    184\u001b[0m )\n\u001b[0;32m--> 185\u001b[0m response \u001b[38;5;241m=\u001b[39m \u001b[38;5;28;43mself\u001b[39;49m\u001b[38;5;241;43m.\u001b[39;49m\u001b[43msagemaker_session\u001b[49m\u001b[38;5;241;43m.\u001b[39;49m\u001b[43msagemaker_runtime_client\u001b[49m\u001b[38;5;241;43m.\u001b[39;49m\u001b[43minvoke_endpoint\u001b[49m\u001b[43m(\u001b[49m\u001b[38;5;241;43m*\u001b[39;49m\u001b[38;5;241;43m*\u001b[39;49m\u001b[43mrequest_args\u001b[49m\u001b[43m)\u001b[49m\n\u001b[1;32m    186\u001b[0m \u001b[38;5;28;01mreturn\u001b[39;00m \u001b[38;5;28mself\u001b[39m\u001b[38;5;241m.\u001b[39m_handle_response(response)\n",
      "File \u001b[0;32m/opt/conda/lib/python3.10/site-packages/botocore/client.py:535\u001b[0m, in \u001b[0;36mClientCreator._create_api_method.<locals>._api_call\u001b[0;34m(self, *args, **kwargs)\u001b[0m\n\u001b[1;32m    531\u001b[0m     \u001b[38;5;28;01mraise\u001b[39;00m \u001b[38;5;167;01mTypeError\u001b[39;00m(\n\u001b[1;32m    532\u001b[0m         \u001b[38;5;124mf\u001b[39m\u001b[38;5;124m\"\u001b[39m\u001b[38;5;132;01m{\u001b[39;00mpy_operation_name\u001b[38;5;132;01m}\u001b[39;00m\u001b[38;5;124m() only accepts keyword arguments.\u001b[39m\u001b[38;5;124m\"\u001b[39m\n\u001b[1;32m    533\u001b[0m     )\n\u001b[1;32m    534\u001b[0m \u001b[38;5;66;03m# The \"self\" in this scope is referring to the BaseClient.\u001b[39;00m\n\u001b[0;32m--> 535\u001b[0m \u001b[38;5;28;01mreturn\u001b[39;00m \u001b[38;5;28;43mself\u001b[39;49m\u001b[38;5;241;43m.\u001b[39;49m\u001b[43m_make_api_call\u001b[49m\u001b[43m(\u001b[49m\u001b[43moperation_name\u001b[49m\u001b[43m,\u001b[49m\u001b[43m \u001b[49m\u001b[43mkwargs\u001b[49m\u001b[43m)\u001b[49m\n",
      "File \u001b[0;32m/opt/conda/lib/python3.10/site-packages/botocore/client.py:963\u001b[0m, in \u001b[0;36mBaseClient._make_api_call\u001b[0;34m(self, operation_name, api_params)\u001b[0m\n\u001b[1;32m    959\u001b[0m     maybe_compress_request(\n\u001b[1;32m    960\u001b[0m         \u001b[38;5;28mself\u001b[39m\u001b[38;5;241m.\u001b[39mmeta\u001b[38;5;241m.\u001b[39mconfig, request_dict, operation_model\n\u001b[1;32m    961\u001b[0m     )\n\u001b[1;32m    962\u001b[0m     apply_request_checksum(request_dict)\n\u001b[0;32m--> 963\u001b[0m     http, parsed_response \u001b[38;5;241m=\u001b[39m \u001b[38;5;28;43mself\u001b[39;49m\u001b[38;5;241;43m.\u001b[39;49m\u001b[43m_make_request\u001b[49m\u001b[43m(\u001b[49m\n\u001b[1;32m    964\u001b[0m \u001b[43m        \u001b[49m\u001b[43moperation_model\u001b[49m\u001b[43m,\u001b[49m\u001b[43m \u001b[49m\u001b[43mrequest_dict\u001b[49m\u001b[43m,\u001b[49m\u001b[43m \u001b[49m\u001b[43mrequest_context\u001b[49m\n\u001b[1;32m    965\u001b[0m \u001b[43m    \u001b[49m\u001b[43m)\u001b[49m\n\u001b[1;32m    967\u001b[0m \u001b[38;5;28mself\u001b[39m\u001b[38;5;241m.\u001b[39mmeta\u001b[38;5;241m.\u001b[39mevents\u001b[38;5;241m.\u001b[39memit(\n\u001b[1;32m    968\u001b[0m     \u001b[38;5;124m'\u001b[39m\u001b[38;5;124mafter-call.\u001b[39m\u001b[38;5;132;01m{service_id}\u001b[39;00m\u001b[38;5;124m.\u001b[39m\u001b[38;5;132;01m{operation_name}\u001b[39;00m\u001b[38;5;124m'\u001b[39m\u001b[38;5;241m.\u001b[39mformat(\n\u001b[1;32m    969\u001b[0m         service_id\u001b[38;5;241m=\u001b[39mservice_id, operation_name\u001b[38;5;241m=\u001b[39moperation_name\n\u001b[0;32m   (...)\u001b[0m\n\u001b[1;32m    974\u001b[0m     context\u001b[38;5;241m=\u001b[39mrequest_context,\n\u001b[1;32m    975\u001b[0m )\n\u001b[1;32m    977\u001b[0m \u001b[38;5;28;01mif\u001b[39;00m http\u001b[38;5;241m.\u001b[39mstatus_code \u001b[38;5;241m>\u001b[39m\u001b[38;5;241m=\u001b[39m \u001b[38;5;241m300\u001b[39m:\n",
      "File \u001b[0;32m/opt/conda/lib/python3.10/site-packages/botocore/client.py:986\u001b[0m, in \u001b[0;36mBaseClient._make_request\u001b[0;34m(self, operation_model, request_dict, request_context)\u001b[0m\n\u001b[1;32m    984\u001b[0m \u001b[38;5;28;01mdef\u001b[39;00m \u001b[38;5;21m_make_request\u001b[39m(\u001b[38;5;28mself\u001b[39m, operation_model, request_dict, request_context):\n\u001b[1;32m    985\u001b[0m     \u001b[38;5;28;01mtry\u001b[39;00m:\n\u001b[0;32m--> 986\u001b[0m         \u001b[38;5;28;01mreturn\u001b[39;00m \u001b[38;5;28;43mself\u001b[39;49m\u001b[38;5;241;43m.\u001b[39;49m\u001b[43m_endpoint\u001b[49m\u001b[38;5;241;43m.\u001b[39;49m\u001b[43mmake_request\u001b[49m\u001b[43m(\u001b[49m\u001b[43moperation_model\u001b[49m\u001b[43m,\u001b[49m\u001b[43m \u001b[49m\u001b[43mrequest_dict\u001b[49m\u001b[43m)\u001b[49m\n\u001b[1;32m    987\u001b[0m     \u001b[38;5;28;01mexcept\u001b[39;00m \u001b[38;5;167;01mException\u001b[39;00m \u001b[38;5;28;01mas\u001b[39;00m e:\n\u001b[1;32m    988\u001b[0m         \u001b[38;5;28mself\u001b[39m\u001b[38;5;241m.\u001b[39mmeta\u001b[38;5;241m.\u001b[39mevents\u001b[38;5;241m.\u001b[39memit(\n\u001b[1;32m    989\u001b[0m             \u001b[38;5;124m'\u001b[39m\u001b[38;5;124mafter-call-error.\u001b[39m\u001b[38;5;132;01m{service_id}\u001b[39;00m\u001b[38;5;124m.\u001b[39m\u001b[38;5;132;01m{operation_name}\u001b[39;00m\u001b[38;5;124m'\u001b[39m\u001b[38;5;241m.\u001b[39mformat(\n\u001b[1;32m    990\u001b[0m                 service_id\u001b[38;5;241m=\u001b[39m\u001b[38;5;28mself\u001b[39m\u001b[38;5;241m.\u001b[39m_service_model\u001b[38;5;241m.\u001b[39mservice_id\u001b[38;5;241m.\u001b[39mhyphenize(),\n\u001b[0;32m   (...)\u001b[0m\n\u001b[1;32m    994\u001b[0m             context\u001b[38;5;241m=\u001b[39mrequest_context,\n\u001b[1;32m    995\u001b[0m         )\n",
      "File \u001b[0;32m/opt/conda/lib/python3.10/site-packages/botocore/endpoint.py:119\u001b[0m, in \u001b[0;36mEndpoint.make_request\u001b[0;34m(self, operation_model, request_dict)\u001b[0m\n\u001b[1;32m    113\u001b[0m \u001b[38;5;28;01mdef\u001b[39;00m \u001b[38;5;21mmake_request\u001b[39m(\u001b[38;5;28mself\u001b[39m, operation_model, request_dict):\n\u001b[1;32m    114\u001b[0m     logger\u001b[38;5;241m.\u001b[39mdebug(\n\u001b[1;32m    115\u001b[0m         \u001b[38;5;124m\"\u001b[39m\u001b[38;5;124mMaking request for \u001b[39m\u001b[38;5;132;01m%s\u001b[39;00m\u001b[38;5;124m with params: \u001b[39m\u001b[38;5;132;01m%s\u001b[39;00m\u001b[38;5;124m\"\u001b[39m,\n\u001b[1;32m    116\u001b[0m         operation_model,\n\u001b[1;32m    117\u001b[0m         request_dict,\n\u001b[1;32m    118\u001b[0m     )\n\u001b[0;32m--> 119\u001b[0m     \u001b[38;5;28;01mreturn\u001b[39;00m \u001b[38;5;28;43mself\u001b[39;49m\u001b[38;5;241;43m.\u001b[39;49m\u001b[43m_send_request\u001b[49m\u001b[43m(\u001b[49m\u001b[43mrequest_dict\u001b[49m\u001b[43m,\u001b[49m\u001b[43m \u001b[49m\u001b[43moperation_model\u001b[49m\u001b[43m)\u001b[49m\n",
      "File \u001b[0;32m/opt/conda/lib/python3.10/site-packages/botocore/endpoint.py:202\u001b[0m, in \u001b[0;36mEndpoint._send_request\u001b[0;34m(self, request_dict, operation_model)\u001b[0m\n\u001b[1;32m    198\u001b[0m request \u001b[38;5;241m=\u001b[39m \u001b[38;5;28mself\u001b[39m\u001b[38;5;241m.\u001b[39mcreate_request(request_dict, operation_model)\n\u001b[1;32m    199\u001b[0m success_response, exception \u001b[38;5;241m=\u001b[39m \u001b[38;5;28mself\u001b[39m\u001b[38;5;241m.\u001b[39m_get_response(\n\u001b[1;32m    200\u001b[0m     request, operation_model, context\n\u001b[1;32m    201\u001b[0m )\n\u001b[0;32m--> 202\u001b[0m \u001b[38;5;28;01mwhile\u001b[39;00m \u001b[38;5;28;43mself\u001b[39;49m\u001b[38;5;241;43m.\u001b[39;49m\u001b[43m_needs_retry\u001b[49m\u001b[43m(\u001b[49m\n\u001b[1;32m    203\u001b[0m \u001b[43m    \u001b[49m\u001b[43mattempts\u001b[49m\u001b[43m,\u001b[49m\n\u001b[1;32m    204\u001b[0m \u001b[43m    \u001b[49m\u001b[43moperation_model\u001b[49m\u001b[43m,\u001b[49m\n\u001b[1;32m    205\u001b[0m \u001b[43m    \u001b[49m\u001b[43mrequest_dict\u001b[49m\u001b[43m,\u001b[49m\n\u001b[1;32m    206\u001b[0m \u001b[43m    \u001b[49m\u001b[43msuccess_response\u001b[49m\u001b[43m,\u001b[49m\n\u001b[1;32m    207\u001b[0m \u001b[43m    \u001b[49m\u001b[43mexception\u001b[49m\u001b[43m,\u001b[49m\n\u001b[1;32m    208\u001b[0m \u001b[43m\u001b[49m\u001b[43m)\u001b[49m:\n\u001b[1;32m    209\u001b[0m     attempts \u001b[38;5;241m+\u001b[39m\u001b[38;5;241m=\u001b[39m \u001b[38;5;241m1\u001b[39m\n\u001b[1;32m    210\u001b[0m     \u001b[38;5;28mself\u001b[39m\u001b[38;5;241m.\u001b[39m_update_retries_context(context, attempts, success_response)\n",
      "File \u001b[0;32m/opt/conda/lib/python3.10/site-packages/botocore/endpoint.py:354\u001b[0m, in \u001b[0;36mEndpoint._needs_retry\u001b[0;34m(self, attempts, operation_model, request_dict, response, caught_exception)\u001b[0m\n\u001b[1;32m    352\u001b[0m service_id \u001b[38;5;241m=\u001b[39m operation_model\u001b[38;5;241m.\u001b[39mservice_model\u001b[38;5;241m.\u001b[39mservice_id\u001b[38;5;241m.\u001b[39mhyphenize()\n\u001b[1;32m    353\u001b[0m event_name \u001b[38;5;241m=\u001b[39m \u001b[38;5;124mf\u001b[39m\u001b[38;5;124m\"\u001b[39m\u001b[38;5;124mneeds-retry.\u001b[39m\u001b[38;5;132;01m{\u001b[39;00mservice_id\u001b[38;5;132;01m}\u001b[39;00m\u001b[38;5;124m.\u001b[39m\u001b[38;5;132;01m{\u001b[39;00moperation_model\u001b[38;5;241m.\u001b[39mname\u001b[38;5;132;01m}\u001b[39;00m\u001b[38;5;124m\"\u001b[39m\n\u001b[0;32m--> 354\u001b[0m responses \u001b[38;5;241m=\u001b[39m \u001b[38;5;28;43mself\u001b[39;49m\u001b[38;5;241;43m.\u001b[39;49m\u001b[43m_event_emitter\u001b[49m\u001b[38;5;241;43m.\u001b[39;49m\u001b[43memit\u001b[49m\u001b[43m(\u001b[49m\n\u001b[1;32m    355\u001b[0m \u001b[43m    \u001b[49m\u001b[43mevent_name\u001b[49m\u001b[43m,\u001b[49m\n\u001b[1;32m    356\u001b[0m \u001b[43m    \u001b[49m\u001b[43mresponse\u001b[49m\u001b[38;5;241;43m=\u001b[39;49m\u001b[43mresponse\u001b[49m\u001b[43m,\u001b[49m\n\u001b[1;32m    357\u001b[0m \u001b[43m    \u001b[49m\u001b[43mendpoint\u001b[49m\u001b[38;5;241;43m=\u001b[39;49m\u001b[38;5;28;43mself\u001b[39;49m\u001b[43m,\u001b[49m\n\u001b[1;32m    358\u001b[0m \u001b[43m    \u001b[49m\u001b[43moperation\u001b[49m\u001b[38;5;241;43m=\u001b[39;49m\u001b[43moperation_model\u001b[49m\u001b[43m,\u001b[49m\n\u001b[1;32m    359\u001b[0m \u001b[43m    \u001b[49m\u001b[43mattempts\u001b[49m\u001b[38;5;241;43m=\u001b[39;49m\u001b[43mattempts\u001b[49m\u001b[43m,\u001b[49m\n\u001b[1;32m    360\u001b[0m \u001b[43m    \u001b[49m\u001b[43mcaught_exception\u001b[49m\u001b[38;5;241;43m=\u001b[39;49m\u001b[43mcaught_exception\u001b[49m\u001b[43m,\u001b[49m\n\u001b[1;32m    361\u001b[0m \u001b[43m    \u001b[49m\u001b[43mrequest_dict\u001b[49m\u001b[38;5;241;43m=\u001b[39;49m\u001b[43mrequest_dict\u001b[49m\u001b[43m,\u001b[49m\n\u001b[1;32m    362\u001b[0m \u001b[43m\u001b[49m\u001b[43m)\u001b[49m\n\u001b[1;32m    363\u001b[0m handler_response \u001b[38;5;241m=\u001b[39m first_non_none_response(responses)\n\u001b[1;32m    364\u001b[0m \u001b[38;5;28;01mif\u001b[39;00m handler_response \u001b[38;5;129;01mis\u001b[39;00m \u001b[38;5;28;01mNone\u001b[39;00m:\n",
      "File \u001b[0;32m/opt/conda/lib/python3.10/site-packages/botocore/hooks.py:412\u001b[0m, in \u001b[0;36mEventAliaser.emit\u001b[0;34m(self, event_name, **kwargs)\u001b[0m\n\u001b[1;32m    410\u001b[0m \u001b[38;5;28;01mdef\u001b[39;00m \u001b[38;5;21memit\u001b[39m(\u001b[38;5;28mself\u001b[39m, event_name, \u001b[38;5;241m*\u001b[39m\u001b[38;5;241m*\u001b[39mkwargs):\n\u001b[1;32m    411\u001b[0m     aliased_event_name \u001b[38;5;241m=\u001b[39m \u001b[38;5;28mself\u001b[39m\u001b[38;5;241m.\u001b[39m_alias_event_name(event_name)\n\u001b[0;32m--> 412\u001b[0m     \u001b[38;5;28;01mreturn\u001b[39;00m \u001b[38;5;28;43mself\u001b[39;49m\u001b[38;5;241;43m.\u001b[39;49m\u001b[43m_emitter\u001b[49m\u001b[38;5;241;43m.\u001b[39;49m\u001b[43memit\u001b[49m\u001b[43m(\u001b[49m\u001b[43maliased_event_name\u001b[49m\u001b[43m,\u001b[49m\u001b[43m \u001b[49m\u001b[38;5;241;43m*\u001b[39;49m\u001b[38;5;241;43m*\u001b[39;49m\u001b[43mkwargs\u001b[49m\u001b[43m)\u001b[49m\n",
      "File \u001b[0;32m/opt/conda/lib/python3.10/site-packages/botocore/hooks.py:256\u001b[0m, in \u001b[0;36mHierarchicalEmitter.emit\u001b[0;34m(self, event_name, **kwargs)\u001b[0m\n\u001b[1;32m    245\u001b[0m \u001b[38;5;28;01mdef\u001b[39;00m \u001b[38;5;21memit\u001b[39m(\u001b[38;5;28mself\u001b[39m, event_name, \u001b[38;5;241m*\u001b[39m\u001b[38;5;241m*\u001b[39mkwargs):\n\u001b[1;32m    246\u001b[0m \u001b[38;5;250m    \u001b[39m\u001b[38;5;124;03m\"\"\"\u001b[39;00m\n\u001b[1;32m    247\u001b[0m \u001b[38;5;124;03m    Emit an event by name with arguments passed as keyword args.\u001b[39;00m\n\u001b[1;32m    248\u001b[0m \n\u001b[0;32m   (...)\u001b[0m\n\u001b[1;32m    254\u001b[0m \u001b[38;5;124;03m             handlers.\u001b[39;00m\n\u001b[1;32m    255\u001b[0m \u001b[38;5;124;03m    \"\"\"\u001b[39;00m\n\u001b[0;32m--> 256\u001b[0m     \u001b[38;5;28;01mreturn\u001b[39;00m \u001b[38;5;28;43mself\u001b[39;49m\u001b[38;5;241;43m.\u001b[39;49m\u001b[43m_emit\u001b[49m\u001b[43m(\u001b[49m\u001b[43mevent_name\u001b[49m\u001b[43m,\u001b[49m\u001b[43m \u001b[49m\u001b[43mkwargs\u001b[49m\u001b[43m)\u001b[49m\n",
      "File \u001b[0;32m/opt/conda/lib/python3.10/site-packages/botocore/hooks.py:239\u001b[0m, in \u001b[0;36mHierarchicalEmitter._emit\u001b[0;34m(self, event_name, kwargs, stop_on_response)\u001b[0m\n\u001b[1;32m    237\u001b[0m \u001b[38;5;28;01mfor\u001b[39;00m handler \u001b[38;5;129;01min\u001b[39;00m handlers_to_call:\n\u001b[1;32m    238\u001b[0m     logger\u001b[38;5;241m.\u001b[39mdebug(\u001b[38;5;124m'\u001b[39m\u001b[38;5;124mEvent \u001b[39m\u001b[38;5;132;01m%s\u001b[39;00m\u001b[38;5;124m: calling handler \u001b[39m\u001b[38;5;132;01m%s\u001b[39;00m\u001b[38;5;124m'\u001b[39m, event_name, handler)\n\u001b[0;32m--> 239\u001b[0m     response \u001b[38;5;241m=\u001b[39m \u001b[43mhandler\u001b[49m\u001b[43m(\u001b[49m\u001b[38;5;241;43m*\u001b[39;49m\u001b[38;5;241;43m*\u001b[39;49m\u001b[43mkwargs\u001b[49m\u001b[43m)\u001b[49m\n\u001b[1;32m    240\u001b[0m     responses\u001b[38;5;241m.\u001b[39mappend((handler, response))\n\u001b[1;32m    241\u001b[0m     \u001b[38;5;28;01mif\u001b[39;00m stop_on_response \u001b[38;5;129;01mand\u001b[39;00m response \u001b[38;5;129;01mis\u001b[39;00m \u001b[38;5;129;01mnot\u001b[39;00m \u001b[38;5;28;01mNone\u001b[39;00m:\n",
      "File \u001b[0;32m/opt/conda/lib/python3.10/site-packages/botocore/retryhandler.py:207\u001b[0m, in \u001b[0;36mRetryHandler.__call__\u001b[0;34m(self, attempts, response, caught_exception, **kwargs)\u001b[0m\n\u001b[1;32m    204\u001b[0m     retries_context \u001b[38;5;241m=\u001b[39m kwargs[\u001b[38;5;124m'\u001b[39m\u001b[38;5;124mrequest_dict\u001b[39m\u001b[38;5;124m'\u001b[39m][\u001b[38;5;124m'\u001b[39m\u001b[38;5;124mcontext\u001b[39m\u001b[38;5;124m'\u001b[39m]\u001b[38;5;241m.\u001b[39mget(\u001b[38;5;124m'\u001b[39m\u001b[38;5;124mretries\u001b[39m\u001b[38;5;124m'\u001b[39m)\n\u001b[1;32m    205\u001b[0m     checker_kwargs\u001b[38;5;241m.\u001b[39mupdate({\u001b[38;5;124m'\u001b[39m\u001b[38;5;124mretries_context\u001b[39m\u001b[38;5;124m'\u001b[39m: retries_context})\n\u001b[0;32m--> 207\u001b[0m \u001b[38;5;28;01mif\u001b[39;00m \u001b[38;5;28;43mself\u001b[39;49m\u001b[38;5;241;43m.\u001b[39;49m\u001b[43m_checker\u001b[49m\u001b[43m(\u001b[49m\u001b[38;5;241;43m*\u001b[39;49m\u001b[38;5;241;43m*\u001b[39;49m\u001b[43mchecker_kwargs\u001b[49m\u001b[43m)\u001b[49m:\n\u001b[1;32m    208\u001b[0m     result \u001b[38;5;241m=\u001b[39m \u001b[38;5;28mself\u001b[39m\u001b[38;5;241m.\u001b[39m_action(attempts\u001b[38;5;241m=\u001b[39mattempts)\n\u001b[1;32m    209\u001b[0m     logger\u001b[38;5;241m.\u001b[39mdebug(\u001b[38;5;124m\"\u001b[39m\u001b[38;5;124mRetry needed, action of: \u001b[39m\u001b[38;5;132;01m%s\u001b[39;00m\u001b[38;5;124m\"\u001b[39m, result)\n",
      "File \u001b[0;32m/opt/conda/lib/python3.10/site-packages/botocore/retryhandler.py:284\u001b[0m, in \u001b[0;36mMaxAttemptsDecorator.__call__\u001b[0;34m(self, attempt_number, response, caught_exception, retries_context)\u001b[0m\n\u001b[1;32m    279\u001b[0m \u001b[38;5;28;01mif\u001b[39;00m retries_context:\n\u001b[1;32m    280\u001b[0m     retries_context[\u001b[38;5;124m'\u001b[39m\u001b[38;5;124mmax\u001b[39m\u001b[38;5;124m'\u001b[39m] \u001b[38;5;241m=\u001b[39m \u001b[38;5;28mmax\u001b[39m(\n\u001b[1;32m    281\u001b[0m         retries_context\u001b[38;5;241m.\u001b[39mget(\u001b[38;5;124m'\u001b[39m\u001b[38;5;124mmax\u001b[39m\u001b[38;5;124m'\u001b[39m, \u001b[38;5;241m0\u001b[39m), \u001b[38;5;28mself\u001b[39m\u001b[38;5;241m.\u001b[39m_max_attempts\n\u001b[1;32m    282\u001b[0m     )\n\u001b[0;32m--> 284\u001b[0m should_retry \u001b[38;5;241m=\u001b[39m \u001b[38;5;28;43mself\u001b[39;49m\u001b[38;5;241;43m.\u001b[39;49m\u001b[43m_should_retry\u001b[49m\u001b[43m(\u001b[49m\n\u001b[1;32m    285\u001b[0m \u001b[43m    \u001b[49m\u001b[43mattempt_number\u001b[49m\u001b[43m,\u001b[49m\u001b[43m \u001b[49m\u001b[43mresponse\u001b[49m\u001b[43m,\u001b[49m\u001b[43m \u001b[49m\u001b[43mcaught_exception\u001b[49m\n\u001b[1;32m    286\u001b[0m \u001b[43m\u001b[49m\u001b[43m)\u001b[49m\n\u001b[1;32m    287\u001b[0m \u001b[38;5;28;01mif\u001b[39;00m should_retry:\n\u001b[1;32m    288\u001b[0m     \u001b[38;5;28;01mif\u001b[39;00m attempt_number \u001b[38;5;241m>\u001b[39m\u001b[38;5;241m=\u001b[39m \u001b[38;5;28mself\u001b[39m\u001b[38;5;241m.\u001b[39m_max_attempts:\n\u001b[1;32m    289\u001b[0m         \u001b[38;5;66;03m# explicitly set MaxAttemptsReached\u001b[39;00m\n",
      "File \u001b[0;32m/opt/conda/lib/python3.10/site-packages/botocore/retryhandler.py:320\u001b[0m, in \u001b[0;36mMaxAttemptsDecorator._should_retry\u001b[0;34m(self, attempt_number, response, caught_exception)\u001b[0m\n\u001b[1;32m    316\u001b[0m         \u001b[38;5;28;01mreturn\u001b[39;00m \u001b[38;5;28;01mTrue\u001b[39;00m\n\u001b[1;32m    317\u001b[0m \u001b[38;5;28;01melse\u001b[39;00m:\n\u001b[1;32m    318\u001b[0m     \u001b[38;5;66;03m# If we've exceeded the max attempts we just let the exception\u001b[39;00m\n\u001b[1;32m    319\u001b[0m     \u001b[38;5;66;03m# propogate if one has occurred.\u001b[39;00m\n\u001b[0;32m--> 320\u001b[0m     \u001b[38;5;28;01mreturn\u001b[39;00m \u001b[38;5;28;43mself\u001b[39;49m\u001b[38;5;241;43m.\u001b[39;49m\u001b[43m_checker\u001b[49m\u001b[43m(\u001b[49m\u001b[43mattempt_number\u001b[49m\u001b[43m,\u001b[49m\u001b[43m \u001b[49m\u001b[43mresponse\u001b[49m\u001b[43m,\u001b[49m\u001b[43m \u001b[49m\u001b[43mcaught_exception\u001b[49m\u001b[43m)\u001b[49m\n",
      "File \u001b[0;32m/opt/conda/lib/python3.10/site-packages/botocore/retryhandler.py:363\u001b[0m, in \u001b[0;36mMultiChecker.__call__\u001b[0;34m(self, attempt_number, response, caught_exception)\u001b[0m\n\u001b[1;32m    361\u001b[0m \u001b[38;5;28;01mdef\u001b[39;00m \u001b[38;5;21m__call__\u001b[39m(\u001b[38;5;28mself\u001b[39m, attempt_number, response, caught_exception):\n\u001b[1;32m    362\u001b[0m     \u001b[38;5;28;01mfor\u001b[39;00m checker \u001b[38;5;129;01min\u001b[39;00m \u001b[38;5;28mself\u001b[39m\u001b[38;5;241m.\u001b[39m_checkers:\n\u001b[0;32m--> 363\u001b[0m         checker_response \u001b[38;5;241m=\u001b[39m \u001b[43mchecker\u001b[49m\u001b[43m(\u001b[49m\n\u001b[1;32m    364\u001b[0m \u001b[43m            \u001b[49m\u001b[43mattempt_number\u001b[49m\u001b[43m,\u001b[49m\u001b[43m \u001b[49m\u001b[43mresponse\u001b[49m\u001b[43m,\u001b[49m\u001b[43m \u001b[49m\u001b[43mcaught_exception\u001b[49m\n\u001b[1;32m    365\u001b[0m \u001b[43m        \u001b[49m\u001b[43m)\u001b[49m\n\u001b[1;32m    366\u001b[0m         \u001b[38;5;28;01mif\u001b[39;00m checker_response:\n\u001b[1;32m    367\u001b[0m             \u001b[38;5;28;01mreturn\u001b[39;00m checker_response\n",
      "File \u001b[0;32m/opt/conda/lib/python3.10/site-packages/botocore/retryhandler.py:247\u001b[0m, in \u001b[0;36mBaseChecker.__call__\u001b[0;34m(self, attempt_number, response, caught_exception)\u001b[0m\n\u001b[1;32m    245\u001b[0m     \u001b[38;5;28;01mreturn\u001b[39;00m \u001b[38;5;28mself\u001b[39m\u001b[38;5;241m.\u001b[39m_check_response(attempt_number, response)\n\u001b[1;32m    246\u001b[0m \u001b[38;5;28;01melif\u001b[39;00m caught_exception \u001b[38;5;129;01mis\u001b[39;00m \u001b[38;5;129;01mnot\u001b[39;00m \u001b[38;5;28;01mNone\u001b[39;00m:\n\u001b[0;32m--> 247\u001b[0m     \u001b[38;5;28;01mreturn\u001b[39;00m \u001b[38;5;28;43mself\u001b[39;49m\u001b[38;5;241;43m.\u001b[39;49m\u001b[43m_check_caught_exception\u001b[49m\u001b[43m(\u001b[49m\n\u001b[1;32m    248\u001b[0m \u001b[43m        \u001b[49m\u001b[43mattempt_number\u001b[49m\u001b[43m,\u001b[49m\u001b[43m \u001b[49m\u001b[43mcaught_exception\u001b[49m\n\u001b[1;32m    249\u001b[0m \u001b[43m    \u001b[49m\u001b[43m)\u001b[49m\n\u001b[1;32m    250\u001b[0m \u001b[38;5;28;01melse\u001b[39;00m:\n\u001b[1;32m    251\u001b[0m     \u001b[38;5;28;01mraise\u001b[39;00m \u001b[38;5;167;01mValueError\u001b[39;00m(\u001b[38;5;124m\"\u001b[39m\u001b[38;5;124mBoth response and caught_exception are None.\u001b[39m\u001b[38;5;124m\"\u001b[39m)\n",
      "File \u001b[0;32m/opt/conda/lib/python3.10/site-packages/botocore/retryhandler.py:416\u001b[0m, in \u001b[0;36mExceptionRaiser._check_caught_exception\u001b[0;34m(self, attempt_number, caught_exception)\u001b[0m\n\u001b[1;32m    408\u001b[0m \u001b[38;5;28;01mdef\u001b[39;00m \u001b[38;5;21m_check_caught_exception\u001b[39m(\u001b[38;5;28mself\u001b[39m, attempt_number, caught_exception):\n\u001b[1;32m    409\u001b[0m     \u001b[38;5;66;03m# This is implementation specific, but this class is useful by\u001b[39;00m\n\u001b[1;32m    410\u001b[0m     \u001b[38;5;66;03m# coordinating with the MaxAttemptsDecorator.\u001b[39;00m\n\u001b[0;32m   (...)\u001b[0m\n\u001b[1;32m    414\u001b[0m     \u001b[38;5;66;03m# the MaxAttemptsDecorator is not interested in retrying the exception\u001b[39;00m\n\u001b[1;32m    415\u001b[0m     \u001b[38;5;66;03m# then this exception just propogates out past the retry code.\u001b[39;00m\n\u001b[0;32m--> 416\u001b[0m     \u001b[38;5;28;01mraise\u001b[39;00m caught_exception\n",
      "File \u001b[0;32m/opt/conda/lib/python3.10/site-packages/botocore/endpoint.py:281\u001b[0m, in \u001b[0;36mEndpoint._do_get_response\u001b[0;34m(self, request, operation_model, context)\u001b[0m\n\u001b[1;32m    279\u001b[0m     http_response \u001b[38;5;241m=\u001b[39m first_non_none_response(responses)\n\u001b[1;32m    280\u001b[0m     \u001b[38;5;28;01mif\u001b[39;00m http_response \u001b[38;5;129;01mis\u001b[39;00m \u001b[38;5;28;01mNone\u001b[39;00m:\n\u001b[0;32m--> 281\u001b[0m         http_response \u001b[38;5;241m=\u001b[39m \u001b[38;5;28;43mself\u001b[39;49m\u001b[38;5;241;43m.\u001b[39;49m\u001b[43m_send\u001b[49m\u001b[43m(\u001b[49m\u001b[43mrequest\u001b[49m\u001b[43m)\u001b[49m\n\u001b[1;32m    282\u001b[0m \u001b[38;5;28;01mexcept\u001b[39;00m HTTPClientError \u001b[38;5;28;01mas\u001b[39;00m e:\n\u001b[1;32m    283\u001b[0m     \u001b[38;5;28;01mreturn\u001b[39;00m (\u001b[38;5;28;01mNone\u001b[39;00m, e)\n",
      "File \u001b[0;32m/opt/conda/lib/python3.10/site-packages/botocore/endpoint.py:377\u001b[0m, in \u001b[0;36mEndpoint._send\u001b[0;34m(self, request)\u001b[0m\n\u001b[1;32m    376\u001b[0m \u001b[38;5;28;01mdef\u001b[39;00m \u001b[38;5;21m_send\u001b[39m(\u001b[38;5;28mself\u001b[39m, request):\n\u001b[0;32m--> 377\u001b[0m     \u001b[38;5;28;01mreturn\u001b[39;00m \u001b[38;5;28;43mself\u001b[39;49m\u001b[38;5;241;43m.\u001b[39;49m\u001b[43mhttp_session\u001b[49m\u001b[38;5;241;43m.\u001b[39;49m\u001b[43msend\u001b[49m\u001b[43m(\u001b[49m\u001b[43mrequest\u001b[49m\u001b[43m)\u001b[49m\n",
      "File \u001b[0;32m/opt/conda/lib/python3.10/site-packages/botocore/httpsession.py:492\u001b[0m, in \u001b[0;36mURLLib3Session.send\u001b[0;34m(self, request)\u001b[0m\n\u001b[1;32m    490\u001b[0m     \u001b[38;5;28;01mreturn\u001b[39;00m http_response\n\u001b[1;32m    491\u001b[0m \u001b[38;5;28;01mexcept\u001b[39;00m URLLib3SSLError \u001b[38;5;28;01mas\u001b[39;00m e:\n\u001b[0;32m--> 492\u001b[0m     \u001b[38;5;28;01mraise\u001b[39;00m SSLError(endpoint_url\u001b[38;5;241m=\u001b[39mrequest\u001b[38;5;241m.\u001b[39murl, error\u001b[38;5;241m=\u001b[39me)\n\u001b[1;32m    493\u001b[0m \u001b[38;5;28;01mexcept\u001b[39;00m (NewConnectionError, socket\u001b[38;5;241m.\u001b[39mgaierror) \u001b[38;5;28;01mas\u001b[39;00m e:\n\u001b[1;32m    494\u001b[0m     \u001b[38;5;28;01mraise\u001b[39;00m EndpointConnectionError(endpoint_url\u001b[38;5;241m=\u001b[39mrequest\u001b[38;5;241m.\u001b[39murl, error\u001b[38;5;241m=\u001b[39me)\n",
      "\u001b[0;31mSSLError\u001b[0m: SSL validation failed for https://runtime.sagemaker.ap-south-1.amazonaws.com/endpoints/tensorflow-inference-fashion-mnist-111/invocations EOF occurred in violation of protocol (_ssl.c:2396)"
     ]
    }
   ],
   "source": [
    "inputs= {'instances': data_list}\n",
    "result = predictor.predict(inputs)"
   ]
  },
  {
   "cell_type": "code",
   "execution_count": null,
   "id": "90c37a65-0bc0-49d5-9583-27e91d71c275",
   "metadata": {},
   "outputs": [],
   "source": []
  },
  {
   "cell_type": "markdown",
   "id": "ce91c5fe-a125-4c54-bfb7-2999abbb83f3",
   "metadata": {},
   "source": [
    "# XGBoost"
   ]
  },
  {
   "cell_type": "code",
   "execution_count": 3,
   "id": "f65c0b63-0e7b-4ac7-b3b4-3aa21868a54f",
   "metadata": {
    "tags": []
   },
   "outputs": [
    {
     "name": "stdout",
     "output_type": "stream",
     "text": [
      "sagemaker.config INFO - Not applying SDK defaults from location: /etc/xdg/sagemaker/config.yaml\n",
      "sagemaker.config INFO - Not applying SDK defaults from location: /root/.config/sagemaker/config.yaml\n"
     ]
    }
   ],
   "source": [
    "xgboost_model = sagemaker.model.Model(\n",
    "    entry_point = \"Evaluation.py\",\n",
    "    source_dir = \"xgboost_code\",\n",
    "    model_data = \"s3://demo-output-bucket/Training_Pipeline_Output/2023-10-12T05:27:07.540Z/HPTuningOutputs/XGBoost/m8ntjjxczrtg-hptuning-s97nZ4rIEC-001-e899812f/output/model.tar.gz\",\n",
    "    image_uri = \"720646828776.dkr.ecr.ap-south-1.amazonaws.com/sagemaker-xgboost:1.0-1-cpu-py3\",\n",
    "    role = role\n",
    ")"
   ]
  },
  {
   "cell_type": "code",
   "execution_count": 5,
   "id": "1d0e090d-9e33-48f4-8193-30bbffbaf723",
   "metadata": {
    "tags": []
   },
   "outputs": [
    {
     "name": "stdout",
     "output_type": "stream",
     "text": [
      "sagemaker.config INFO - Not applying SDK defaults from location: /etc/xdg/sagemaker/config.yaml\n",
      "sagemaker.config INFO - Not applying SDK defaults from location: /root/.config/sagemaker/config.yaml\n",
      "----!"
     ]
    }
   ],
   "source": [
    "predictor = xgboost_model.deploy(initial_instance_count=1, instance_type=\"ml.c5.xlarge\", endpoint_name = \"xgboost-endpoint-12345\")"
   ]
  },
  {
   "cell_type": "code",
   "execution_count": 7,
   "id": "8ae3b5b8-5721-4833-a8c4-ef84a4b37faf",
   "metadata": {
    "tags": []
   },
   "outputs": [
    {
     "name": "stdout",
     "output_type": "stream",
     "text": [
      "sagemaker.config INFO - Not applying SDK defaults from location: /etc/xdg/sagemaker/config.yaml\n",
      "sagemaker.config INFO - Not applying SDK defaults from location: /root/.config/sagemaker/config.yaml\n"
     ]
    }
   ],
   "source": [
    "from sagemaker.deserializers import JSONDeserializer\n",
    "from sagemaker.serializers import CSVSerializer\n",
    "predictor = sagemaker.predictor.Predictor(endpoint_name = \"xgboost-endpoint-12345\",\n",
    "                                          serializer = CSVSerializer(),\n",
    "                                          # content_type  = \"text/csv\"\n",
    "                                         )"
   ]
  },
  {
   "cell_type": "code",
   "execution_count": 8,
   "id": "ae80ed17-a83c-4027-b93d-9a9180b6c1e3",
   "metadata": {
    "tags": []
   },
   "outputs": [
    {
     "data": {
      "text/plain": [
       "b'{\"0\": {\"0\": 1, \"1\": 0, \"2\": 0, \"3\": 1, \"4\": 1, \"5\": 0, \"6\": 0, \"7\": 0, \"8\": 0, \"9\": 0, \"10\": 0, \"11\": 0, \"12\": 0, \"13\": 0, \"14\": 0, \"15\": 1, \"16\": 1, \"17\": 0, \"18\": 1, \"19\": 0, \"20\": 0, \"21\": 0, \"22\": 0, \"23\": 0, \"24\": 0, \"25\": 0, \"26\": 0, \"27\": 0, \"28\": 0, \"29\": 0, \"30\": 0, \"31\": 0, \"32\": 0, \"33\": 0, \"34\": 0, \"35\": 0, \"36\": 0, \"37\": 0, \"38\": 0, \"39\": 0, \"40\": 0, \"41\": 0, \"42\": 1, \"43\": 0, \"44\": 0, \"45\": 0, \"46\": 1, \"47\": 0, \"48\": 0, \"49\": 0, \"50\": 0, \"51\": 0, \"52\": 0, \"53\": 0, \"54\": 0, \"55\": 0, \"56\": 0, \"57\": 1, \"58\": 0, \"59\": 0, \"60\": 0, \"61\": 0, \"62\": 0, \"63\": 0, \"64\": 0, \"65\": 0, \"66\": 0, \"67\": 0, \"68\": 0, \"69\": 1, \"70\": 1, \"71\": 0, \"72\": 1, \"73\": 0, \"74\": 0, \"75\": 0, \"76\": 0, \"77\": 0, \"78\": 0, \"79\": 0, \"80\": 0, \"81\": 0, \"82\": 0, \"83\": 0, \"84\": 0, \"85\": 0, \"86\": 0, \"87\": 1, \"88\": 0, \"89\": 0, \"90\": 0, \"91\": 0, \"92\": 0, \"93\": 0, \"94\": 0, \"95\": 0, \"96\": 0, \"97\": 0, \"98\": 0, \"99\": 0, \"100\": 0, \"101\": 0, \"102\": 0, \"103\": 0, \"104\": 0, \"105\": 0, \"106\": 0, \"107\": 0, \"108\": 0, \"109\": 0, \"110\": 0, \"111\": 0, \"112\": 0, \"113\": 0, \"114\": 0, \"115\": 0, \"116\": 0, \"117\": 0, \"118\": 0, \"119\": 0, \"120\": 0, \"121\": 0, \"122\": 0, \"123\": 0, \"124\": 0, \"125\": 0, \"126\": 0, \"127\": 0, \"128\": 0, \"129\": 0, \"130\": 0, \"131\": 1, \"132\": 0, \"133\": 0, \"134\": 0, \"135\": 0, \"136\": 0, \"137\": 1, \"138\": 0, \"139\": 1, \"140\": 0, \"141\": 1, \"142\": 0, \"143\": 0, \"144\": 1, \"145\": 0, \"146\": 0, \"147\": 0, \"148\": 1, \"149\": 0, \"150\": 0, \"151\": 0, \"152\": 0, \"153\": 0, \"154\": 1, \"155\": 0, \"156\": 0, \"157\": 0, \"158\": 0, \"159\": 0, \"160\": 0, \"161\": 0, \"162\": 0, \"163\": 0, \"164\": 0, \"165\": 0, \"166\": 1, \"167\": 0, \"168\": 0, \"169\": 0, \"170\": 1, \"171\": 0, \"172\": 1, \"173\": 1, \"174\": 0, \"175\": 1, \"176\": 0, \"177\": 0, \"178\": 1, \"179\": 0, \"180\": 0, \"181\": 0, \"182\": 1, \"183\": 0, \"184\": 0, \"185\": 0, \"186\": 0, \"187\": 0, \"188\": 0, \"189\": 0, \"190\": 0, \"191\": 0, \"192\": 0, \"193\": 0, \"194\": 1, \"195\": 0, \"196\": 0, \"197\": 0, \"198\": 0, \"199\": 0, \"200\": 0, \"201\": 0, \"202\": 1, \"203\": 0, \"204\": 1, \"205\": 0, \"206\": 0, \"207\": 0, \"208\": 0, \"209\": 0, \"210\": 0, \"211\": 0, \"212\": 0, \"213\": 0, \"214\": 0, \"215\": 0, \"216\": 0, \"217\": 0, \"218\": 0, \"219\": 0, \"220\": 0, \"221\": 0, \"222\": 0, \"223\": 0, \"224\": 0, \"225\": 0, \"226\": 0, \"227\": 0, \"228\": 0, \"229\": 1, \"230\": 1, \"231\": 1, \"232\": 0, \"233\": 1, \"234\": 0, \"235\": 0, \"236\": 0, \"237\": 0, \"238\": 0, \"239\": 0, \"240\": 0, \"241\": 1, \"242\": 0, \"243\": 0, \"244\": 0, \"245\": 0, \"246\": 0, \"247\": 0, \"248\": 0, \"249\": 0, \"250\": 0, \"251\": 0, \"252\": 0, \"253\": 0, \"254\": 0, \"255\": 0, \"256\": 0, \"257\": 0, \"258\": 0, \"259\": 0, \"260\": 0, \"261\": 0, \"262\": 0, \"263\": 1, \"264\": 0, \"265\": 0, \"266\": 0, \"267\": 0, \"268\": 0, \"269\": 0, \"270\": 0, \"271\": 0, \"272\": 0, \"273\": 0, \"274\": 0, \"275\": 0, \"276\": 0, \"277\": 0, \"278\": 0, \"279\": 0, \"280\": 0, \"281\": 0, \"282\": 1, \"283\": 1, \"284\": 0, \"285\": 1, \"286\": 0, \"287\": 1, \"288\": 0, \"289\": 0, \"290\": 0, \"291\": 0, \"292\": 0, \"293\": 0, \"294\": 1, \"295\": 0, \"296\": 0, \"297\": 1, \"298\": 1, \"299\": 0, \"300\": 0, \"301\": 0, \"302\": 0, \"303\": 0, \"304\": 0, \"305\": 0, \"306\": 0, \"307\": 1, \"308\": 1, \"309\": 0, \"310\": 0, \"311\": 0, \"312\": 0, \"313\": 0, \"314\": 0, \"315\": 0, \"316\": 0, \"317\": 0, \"318\": 0, \"319\": 0, \"320\": 0, \"321\": 0, \"322\": 0, \"323\": 0, \"324\": 0, \"325\": 0, \"326\": 0, \"327\": 0, \"328\": 0, \"329\": 0, \"330\": 0, \"331\": 0, \"332\": 0, \"333\": 0, \"334\": 0, \"335\": 0, \"336\": 0, \"337\": 0, \"338\": 0, \"339\": 0, \"340\": 0, \"341\": 0, \"342\": 0, \"343\": 0, \"344\": 0, \"345\": 0, \"346\": 0, \"347\": 0, \"348\": 0, \"349\": 0, \"350\": 0, \"351\": 0, \"352\": 1, \"353\": 0, \"354\": 0, \"355\": 0, \"356\": 1, \"357\": 0, \"358\": 0, \"359\": 0, \"360\": 1, \"361\": 0, \"362\": 0, \"363\": 1, \"364\": 0, \"365\": 0, \"366\": 1, \"367\": 0, \"368\": 0, \"369\": 0, \"370\": 0, \"371\": 0, \"372\": 0, \"373\": 0, \"374\": 0, \"375\": 0, \"376\": 0, \"377\": 1, \"378\": 1, \"379\": 1, \"380\": 0, \"381\": 0, \"382\": 1, \"383\": 0, \"384\": 0, \"385\": 1, \"386\": 0, \"387\": 0, \"388\": 0, \"389\": 1, \"390\": 0, \"391\": 0, \"392\": 0, \"393\": 0, \"394\": 0, \"395\": 0, \"396\": 0, \"397\": 0, \"398\": 0, \"399\": 0, \"400\": 0, \"401\": 0, \"402\": 1, \"403\": 0, \"404\": 0, \"405\": 0, \"406\": 0, \"407\": 0, \"408\": 0, \"409\": 0, \"410\": 1, \"411\": 0, \"412\": 0, \"413\": 0, \"414\": 0, \"415\": 0, \"416\": 0, \"417\": 0, \"418\": 0, \"419\": 0, \"420\": 0, \"421\": 0, \"422\": 0, \"423\": 0, \"424\": 0, \"425\": 0, \"426\": 0, \"427\": 0, \"428\": 0, \"429\": 0, \"430\": 0, \"431\": 0, \"432\": 0, \"433\": 0, \"434\": 0, \"435\": 1, \"436\": 0, \"437\": 0, \"438\": 0, \"439\": 0, \"440\": 1, \"441\": 1, \"442\": 0, \"443\": 0, \"444\": 0, \"445\": 0, \"446\": 0, \"447\": 0, \"448\": 0, \"449\": 0, \"450\": 0, \"451\": 0, \"452\": 0, \"453\": 0, \"454\": 0, \"455\": 0, \"456\": 0, \"457\": 0, \"458\": 0, \"459\": 0, \"460\": 0, \"461\": 0, \"462\": 0, \"463\": 0, \"464\": 0, \"465\": 0, \"466\": 0, \"467\": 0, \"468\": 0, \"469\": 0, \"470\": 1, \"471\": 1, \"472\": 0, \"473\": 1, \"474\": 0, \"475\": 0, \"476\": 0, \"477\": 0, \"478\": 0, \"479\": 0, \"480\": 0, \"481\": 0, \"482\": 0, \"483\": 0, \"484\": 0, \"485\": 0, \"486\": 0, \"487\": 0, \"488\": 0, \"489\": 0, \"490\": 0, \"491\": 0, \"492\": 0, \"493\": 0, \"494\": 0, \"495\": 0, \"496\": 0, \"497\": 0, \"498\": 0, \"499\": 0, \"500\": 0, \"501\": 1, \"502\": 0, \"503\": 0, \"504\": 0, \"505\": 0, \"506\": 0, \"507\": 1, \"508\": 0, \"509\": 0, \"510\": 0, \"511\": 0, \"512\": 0, \"513\": 0, \"514\": 0, \"515\": 0, \"516\": 0, \"517\": 0, \"518\": 0, \"519\": 0, \"520\": 0, \"521\": 0, \"522\": 0, \"523\": 0, \"524\": 0, \"525\": 0, \"526\": 0, \"527\": 0, \"528\": 0, \"529\": 0, \"530\": 0, \"531\": 0, \"532\": 0, \"533\": 0, \"534\": 0, \"535\": 0, \"536\": 1, \"537\": 0, \"538\": 0, \"539\": 0, \"540\": 0, \"541\": 0, \"542\": 0, \"543\": 0, \"544\": 1, \"545\": 0, \"546\": 1, \"547\": 0, \"548\": 0, \"549\": 0, \"550\": 0, \"551\": 0, \"552\": 0, \"553\": 0, \"554\": 0, \"555\": 1, \"556\": 1, \"557\": 0, \"558\": 0, \"559\": 0, \"560\": 0, \"561\": 0, \"562\": 0, \"563\": 0, \"564\": 0, \"565\": 0, \"566\": 1, \"567\": 0, \"568\": 0, \"569\": 0, \"570\": 0, \"571\": 0, \"572\": 0, \"573\": 0, \"574\": 0, \"575\": 0, \"576\": 1, \"577\": 0, \"578\": 0, \"579\": 1, \"580\": 0, \"581\": 1, \"582\": 0, \"583\": 0, \"584\": 0, \"585\": 0, \"586\": 0, \"587\": 0, \"588\": 0, \"589\": 0, \"590\": 0, \"591\": 0, \"592\": 0, \"593\": 0, \"594\": 0, \"595\": 0, \"596\": 0, \"597\": 0, \"598\": 0, \"599\": 0, \"600\": 0, \"601\": 0, \"602\": 0, \"603\": 0, \"604\": 0, \"605\": 0, \"606\": 0, \"607\": 1, \"608\": 0, \"609\": 0, \"610\": 0, \"611\": 0, \"612\": 0, \"613\": 0, \"614\": 0, \"615\": 0, \"616\": 0, \"617\": 0, \"618\": 0, \"619\": 0, \"620\": 0, \"621\": 0, \"622\": 0, \"623\": 0, \"624\": 0, \"625\": 0, \"626\": 0, \"627\": 0, \"628\": 0, \"629\": 0, \"630\": 0, \"631\": 0, \"632\": 0, \"633\": 0, \"634\": 0, \"635\": 0, \"636\": 0, \"637\": 1, \"638\": 0, \"639\": 0, \"640\": 0, \"641\": 1, \"642\": 0, \"643\": 0, \"644\": 0, \"645\": 0, \"646\": 0, \"647\": 0, \"648\": 0, \"649\": 0, \"650\": 0, \"651\": 0, \"652\": 0, \"653\": 0, \"654\": 0, \"655\": 0, \"656\": 0, \"657\": 1, \"658\": 0, \"659\": 1, \"660\": 0, \"661\": 0, \"662\": 0, \"663\": 0, \"664\": 0, \"665\": 0, \"666\": 1, \"667\": 0, \"668\": 0, \"669\": 0, \"670\": 0, \"671\": 0, \"672\": 1, \"673\": 0, \"674\": 0, \"675\": 0, \"676\": 0, \"677\": 0, \"678\": 0, \"679\": 0, \"680\": 1, \"681\": 0, \"682\": 0, \"683\": 0, \"684\": 0, \"685\": 0, \"686\": 0, \"687\": 0, \"688\": 0, \"689\": 0, \"690\": 0, \"691\": 0, \"692\": 0, \"693\": 0, \"694\": 0, \"695\": 0, \"696\": 0, \"697\": 0, \"698\": 1, \"699\": 0, \"700\": 0, \"701\": 0, \"702\": 1, \"703\": 0, \"704\": 0, \"705\": 0, \"706\": 0, \"707\": 0, \"708\": 0, \"709\": 0, \"710\": 0, \"711\": 0, \"712\": 1, \"713\": 0, \"714\": 0, \"715\": 0, \"716\": 0, \"717\": 1, \"718\": 0, \"719\": 0, \"720\": 0, \"721\": 1, \"722\": 0, \"723\": 0, \"724\": 0, \"725\": 0, \"726\": 0, \"727\": 0, \"728\": 0, \"729\": 0, \"730\": 0, \"731\": 0, \"732\": 0, \"733\": 0, \"734\": 0, \"735\": 0, \"736\": 0, \"737\": 0, \"738\": 0, \"739\": 0, \"740\": 0, \"741\": 0, \"742\": 1, \"743\": 0, \"744\": 0, \"745\": 0, \"746\": 0, \"747\": 0, \"748\": 0, \"749\": 0, \"750\": 0, \"751\": 0, \"752\": 0, \"753\": 0, \"754\": 0, \"755\": 0, \"756\": 0, \"757\": 0, \"758\": 1, \"759\": 0, \"760\": 0, \"761\": 0, \"762\": 0, \"763\": 0, \"764\": 0, \"765\": 0, \"766\": 0, \"767\": 0, \"768\": 1, \"769\": 0, \"770\": 0, \"771\": 0, \"772\": 0, \"773\": 0, \"774\": 0, \"775\": 0, \"776\": 1, \"777\": 0, \"778\": 0, \"779\": 0, \"780\": 0, \"781\": 0, \"782\": 0, \"783\": 0, \"784\": 0, \"785\": 0, \"786\": 0, \"787\": 0, \"788\": 0, \"789\": 1, \"790\": 0, \"791\": 0, \"792\": 0, \"793\": 0, \"794\": 0, \"795\": 1, \"796\": 1, \"797\": 0, \"798\": 0, \"799\": 0, \"800\": 1, \"801\": 1, \"802\": 0, \"803\": 1, \"804\": 0, \"805\": 0, \"806\": 0, \"807\": 0, \"808\": 0, \"809\": 0, \"810\": 1, \"811\": 1, \"812\": 0, \"813\": 0, \"814\": 0, \"815\": 0, \"816\": 0, \"817\": 0, \"818\": 0, \"819\": 0, \"820\": 0, \"821\": 0, \"822\": 0, \"823\": 0, \"824\": 0, \"825\": 0, \"826\": 1, \"827\": 0, \"828\": 0, \"829\": 0, \"830\": 0, \"831\": 0, \"832\": 0, \"833\": 0, \"834\": 0, \"835\": 0, \"836\": 0, \"837\": 0, \"838\": 0, \"839\": 0, \"840\": 0, \"841\": 0, \"842\": 0, \"843\": 0, \"844\": 0, \"845\": 0, \"846\": 0, \"847\": 0, \"848\": 0, \"849\": 0, \"850\": 1, \"851\": 0, \"852\": 0, \"853\": 1, \"854\": 0, \"855\": 0, \"856\": 0, \"857\": 0, \"858\": 0, \"859\": 0, \"860\": 1, \"861\": 0, \"862\": 0, \"863\": 0, \"864\": 0, \"865\": 0, \"866\": 0, \"867\": 0, \"868\": 1, \"869\": 0, \"870\": 0, \"871\": 0, \"872\": 0, \"873\": 0, \"874\": 0, \"875\": 1, \"876\": 0, \"877\": 0, \"878\": 0, \"879\": 0}, \"1\": {\"0\": 1, \"1\": 1, \"2\": 1, \"3\": 1, \"4\": 1, \"5\": 1, \"6\": 1, \"7\": 1, \"8\": 1, \"9\": 1, \"10\": 1, \"11\": 1, \"12\": 1, \"13\": 1, \"14\": 1, \"15\": 1, \"16\": 1, \"17\": 1, \"18\": 1, \"19\": 1, \"20\": 1, \"21\": 1, \"22\": 1, \"23\": 1, \"24\": 1, \"25\": 1, \"26\": 1, \"27\": 1, \"28\": 1, \"29\": 1, \"30\": 1, \"31\": 1, \"32\": 1, \"33\": 1, \"34\": 1, \"35\": 1, \"36\": 1, \"37\": 1, \"38\": 1, \"39\": 1, \"40\": 1, \"41\": 1, \"42\": 1, \"43\": 1, \"44\": 1, \"45\": 1, \"46\": 1, \"47\": 1, \"48\": 1, \"49\": 1, \"50\": 1, \"51\": 1, \"52\": 1, \"53\": 1, \"54\": 1, \"55\": 1, \"56\": 1, \"57\": 1, \"58\": 1, \"59\": 1, \"60\": 1, \"61\": 1, \"62\": 1, \"63\": 1, \"64\": 1, \"65\": 1, \"66\": 1, \"67\": 1, \"68\": 1, \"69\": 1, \"70\": 1, \"71\": 1, \"72\": 1, \"73\": 1, \"74\": 1, \"75\": 1, \"76\": 1, \"77\": 1, \"78\": 1, \"79\": 1, \"80\": 1, \"81\": 1, \"82\": 1, \"83\": 1, \"84\": 1, \"85\": 1, \"86\": 1, \"87\": 1, \"88\": 1, \"89\": 1, \"90\": 1, \"91\": 1, \"92\": 1, \"93\": 1, \"94\": 1, \"95\": 1, \"96\": 1, \"97\": 1, \"98\": 1, \"99\": 1, \"100\": 1, \"101\": 1, \"102\": 1, \"103\": 1, \"104\": 1, \"105\": 1, \"106\": 1, \"107\": 1, \"108\": 1, \"109\": 1, \"110\": 1, \"111\": 1, \"112\": 1, \"113\": 1, \"114\": 1, \"115\": 1, \"116\": 1, \"117\": 1, \"118\": 1, \"119\": 1, \"120\": 1, \"121\": 1, \"122\": 1, \"123\": 1, \"124\": 1, \"125\": 1, \"126\": 1, \"127\": 1, \"128\": 1, \"129\": 1, \"130\": 1, \"131\": 1, \"132\": 1, \"133\": 1, \"134\": 1, \"135\": 1, \"136\": 1, \"137\": 1, \"138\": 1, \"139\": 1, \"140\": 1, \"141\": 1, \"142\": 1, \"143\": 1, \"144\": 1, \"145\": 1, \"146\": 1, \"147\": 1, \"148\": 1, \"149\": 1, \"150\": 1, \"151\": 1, \"152\": 1, \"153\": 1, \"154\": 1, \"155\": 1, \"156\": 1, \"157\": 1, \"158\": 1, \"159\": 1, \"160\": 1, \"161\": 1, \"162\": 1, \"163\": 1, \"164\": 1, \"165\": 1, \"166\": 1, \"167\": 1, \"168\": 1, \"169\": 1, \"170\": 1, \"171\": 1, \"172\": 1, \"173\": 1, \"174\": 1, \"175\": 1, \"176\": 1, \"177\": 1, \"178\": 1, \"179\": 1, \"180\": 1, \"181\": 1, \"182\": 1, \"183\": 1, \"184\": 1, \"185\": 1, \"186\": 1, \"187\": 1, \"188\": 1, \"189\": 1, \"190\": 1, \"191\": 1, \"192\": 1, \"193\": 1, \"194\": 1, \"195\": 1, \"196\": 1, \"197\": 1, \"198\": 1, \"199\": 1, \"200\": 1, \"201\": 1, \"202\": 1, \"203\": 1, \"204\": 1, \"205\": 1, \"206\": 1, \"207\": 1, \"208\": 1, \"209\": 1, \"210\": 1, \"211\": 1, \"212\": 1, \"213\": 1, \"214\": 1, \"215\": 1, \"216\": 1, \"217\": 1, \"218\": 1, \"219\": 1, \"220\": 1, \"221\": 1, \"222\": 1, \"223\": 1, \"224\": 1, \"225\": 1, \"226\": 1, \"227\": 1, \"228\": 1, \"229\": 1, \"230\": 1, \"231\": 1, \"232\": 1, \"233\": 1, \"234\": 1, \"235\": 1, \"236\": 1, \"237\": 1, \"238\": 1, \"239\": 1, \"240\": 1, \"241\": 1, \"242\": 1, \"243\": 1, \"244\": 1, \"245\": 1, \"246\": 1, \"247\": 1, \"248\": 1, \"249\": 1, \"250\": 1, \"251\": 1, \"252\": 1, \"253\": 1, \"254\": 1, \"255\": 1, \"256\": 1, \"257\": 1, \"258\": 1, \"259\": 1, \"260\": 1, \"261\": 1, \"262\": 1, \"263\": 1, \"264\": 1, \"265\": 1, \"266\": 1, \"267\": 1, \"268\": 1, \"269\": 1, \"270\": 1, \"271\": 1, \"272\": 1, \"273\": 1, \"274\": 1, \"275\": 1, \"276\": 1, \"277\": 1, \"278\": 1, \"279\": 1, \"280\": 1, \"281\": 1, \"282\": 1, \"283\": 1, \"284\": 1, \"285\": 1, \"286\": 1, \"287\": 1, \"288\": 1, \"289\": 1, \"290\": 1, \"291\": 1, \"292\": 1, \"293\": 1, \"294\": 1, \"295\": 1, \"296\": 1, \"297\": 1, \"298\": 1, \"299\": 1, \"300\": 1, \"301\": 1, \"302\": 1, \"303\": 1, \"304\": 1, \"305\": 1, \"306\": 1, \"307\": 1, \"308\": 1, \"309\": 1, \"310\": 1, \"311\": 1, \"312\": 1, \"313\": 1, \"314\": 1, \"315\": 1, \"316\": 1, \"317\": 1, \"318\": 1, \"319\": 1, \"320\": 1, \"321\": 1, \"322\": 1, \"323\": 1, \"324\": 1, \"325\": 1, \"326\": 1, \"327\": 1, \"328\": 1, \"329\": 1, \"330\": 1, \"331\": 1, \"332\": 1, \"333\": 1, \"334\": 1, \"335\": 1, \"336\": 1, \"337\": 1, \"338\": 1, \"339\": 1, \"340\": 1, \"341\": 1, \"342\": 1, \"343\": 1, \"344\": 1, \"345\": 1, \"346\": 1, \"347\": 1, \"348\": 1, \"349\": 1, \"350\": 1, \"351\": 1, \"352\": 1, \"353\": 1, \"354\": 1, \"355\": 1, \"356\": 1, \"357\": 1, \"358\": 1, \"359\": 1, \"360\": 1, \"361\": 1, \"362\": 1, \"363\": 1, \"364\": 1, \"365\": 1, \"366\": 1, \"367\": 1, \"368\": 1, \"369\": 1, \"370\": 1, \"371\": 1, \"372\": 1, \"373\": 1, \"374\": 1, \"375\": 1, \"376\": 1, \"377\": 1, \"378\": 1, \"379\": 1, \"380\": 1, \"381\": 1, \"382\": 1, \"383\": 1, \"384\": 1, \"385\": 1, \"386\": 1, \"387\": 1, \"388\": 1, \"389\": 1, \"390\": 1, \"391\": 1, \"392\": 1, \"393\": 1, \"394\": 1, \"395\": 1, \"396\": 1, \"397\": 1, \"398\": 1, \"399\": 1, \"400\": 1, \"401\": 1, \"402\": 1, \"403\": 1, \"404\": 1, \"405\": 1, \"406\": 1, \"407\": 1, \"408\": 1, \"409\": 1, \"410\": 1, \"411\": 1, \"412\": 1, \"413\": 1, \"414\": 1, \"415\": 1, \"416\": 1, \"417\": 1, \"418\": 1, \"419\": 1, \"420\": 1, \"421\": 1, \"422\": 1, \"423\": 1, \"424\": 1, \"425\": 1, \"426\": 1, \"427\": 1, \"428\": 1, \"429\": 1, \"430\": 1, \"431\": 1, \"432\": 1, \"433\": 1, \"434\": 1, \"435\": 1, \"436\": 1, \"437\": 1, \"438\": 1, \"439\": 1, \"440\": 1, \"441\": 1, \"442\": 1, \"443\": 1, \"444\": 1, \"445\": 1, \"446\": 1, \"447\": 1, \"448\": 1, \"449\": 1, \"450\": 1, \"451\": 1, \"452\": 1, \"453\": 1, \"454\": 1, \"455\": 1, \"456\": 1, \"457\": 1, \"458\": 1, \"459\": 1, \"460\": 1, \"461\": 1, \"462\": 1, \"463\": 1, \"464\": 1, \"465\": 1, \"466\": 1, \"467\": 1, \"468\": 1, \"469\": 1, \"470\": 1, \"471\": 1, \"472\": 1, \"473\": 1, \"474\": 1, \"475\": 1, \"476\": 1, \"477\": 1, \"478\": 1, \"479\": 1, \"480\": 1, \"481\": 1, \"482\": 1, \"483\": 1, \"484\": 1, \"485\": 1, \"486\": 1, \"487\": 1, \"488\": 1, \"489\": 1, \"490\": 1, \"491\": 1, \"492\": 1, \"493\": 1, \"494\": 1, \"495\": 1, \"496\": 1, \"497\": 1, \"498\": 1, \"499\": 1, \"500\": 1, \"501\": 1, \"502\": 1, \"503\": 1, \"504\": 1, \"505\": 1, \"506\": 1, \"507\": 1, \"508\": 1, \"509\": 1, \"510\": 1, \"511\": 1, \"512\": 1, \"513\": 1, \"514\": 1, \"515\": 1, \"516\": 1, \"517\": 1, \"518\": 1, \"519\": 1, \"520\": 1, \"521\": 1, \"522\": 1, \"523\": 1, \"524\": 1, \"525\": 1, \"526\": 1, \"527\": 1, \"528\": 1, \"529\": 1, \"530\": 1, \"531\": 1, \"532\": 1, \"533\": 1, \"534\": 1, \"535\": 1, \"536\": 1, \"537\": 1, \"538\": 1, \"539\": 1, \"540\": 1, \"541\": 1, \"542\": 1, \"543\": 1, \"544\": 1, \"545\": 1, \"546\": 1, \"547\": 1, \"548\": 1, \"549\": 1, \"550\": 1, \"551\": 1, \"552\": 1, \"553\": 1, \"554\": 1, \"555\": 1, \"556\": 1, \"557\": 1, \"558\": 1, \"559\": 1, \"560\": 1, \"561\": 1, \"562\": 1, \"563\": 1, \"564\": 1, \"565\": 1, \"566\": 1, \"567\": 1, \"568\": 1, \"569\": 1, \"570\": 1, \"571\": 1, \"572\": 1, \"573\": 1, \"574\": 1, \"575\": 1, \"576\": 1, \"577\": 1, \"578\": 1, \"579\": 1, \"580\": 1, \"581\": 1, \"582\": 1, \"583\": 1, \"584\": 1, \"585\": 1, \"586\": 1, \"587\": 1, \"588\": 1, \"589\": 1, \"590\": 1, \"591\": 1, \"592\": 1, \"593\": 1, \"594\": 1, \"595\": 1, \"596\": 1, \"597\": 1, \"598\": 1, \"599\": 1, \"600\": 1, \"601\": 1, \"602\": 1, \"603\": 1, \"604\": 1, \"605\": 1, \"606\": 1, \"607\": 1, \"608\": 1, \"609\": 1, \"610\": 1, \"611\": 1, \"612\": 1, \"613\": 1, \"614\": 1, \"615\": 1, \"616\": 1, \"617\": 1, \"618\": 1, \"619\": 1, \"620\": 1, \"621\": 1, \"622\": 1, \"623\": 1, \"624\": 1, \"625\": 1, \"626\": 1, \"627\": 1, \"628\": 1, \"629\": 1, \"630\": 1, \"631\": 1, \"632\": 1, \"633\": 1, \"634\": 1, \"635\": 1, \"636\": 1, \"637\": 1, \"638\": 1, \"639\": 1, \"640\": 1, \"641\": 1, \"642\": 1, \"643\": 1, \"644\": 1, \"645\": 1, \"646\": 1, \"647\": 1, \"648\": 1, \"649\": 1, \"650\": 1, \"651\": 1, \"652\": 1, \"653\": 1, \"654\": 1, \"655\": 1, \"656\": 1, \"657\": 1, \"658\": 1, \"659\": 1, \"660\": 1, \"661\": 1, \"662\": 1, \"663\": 1, \"664\": 1, \"665\": 1, \"666\": 1, \"667\": 1, \"668\": 1, \"669\": 1, \"670\": 1, \"671\": 1, \"672\": 1, \"673\": 1, \"674\": 1, \"675\": 1, \"676\": 1, \"677\": 1, \"678\": 1, \"679\": 1, \"680\": 1, \"681\": 1, \"682\": 1, \"683\": 1, \"684\": 1, \"685\": 1, \"686\": 1, \"687\": 1, \"688\": 1, \"689\": 1, \"690\": 1, \"691\": 1, \"692\": 1, \"693\": 1, \"694\": 1, \"695\": 1, \"696\": 1, \"697\": 1, \"698\": 1, \"699\": 1, \"700\": 1, \"701\": 1, \"702\": 1, \"703\": 1, \"704\": 1, \"705\": 1, \"706\": 1, \"707\": 1, \"708\": 1, \"709\": 1, \"710\": 1, \"711\": 1, \"712\": 1, \"713\": 1, \"714\": 1, \"715\": 1, \"716\": 1, \"717\": 1, \"718\": 1, \"719\": 1, \"720\": 1, \"721\": 1, \"722\": 1, \"723\": 1, \"724\": 1, \"725\": 1, \"726\": 1, \"727\": 1, \"728\": 1, \"729\": 1, \"730\": 1, \"731\": 1, \"732\": 1, \"733\": 1, \"734\": 1, \"735\": 1, \"736\": 1, \"737\": 1, \"738\": 1, \"739\": 1, \"740\": 1, \"741\": 1, \"742\": 1, \"743\": 1, \"744\": 1, \"745\": 1, \"746\": 1, \"747\": 1, \"748\": 1, \"749\": 1, \"750\": 1, \"751\": 1, \"752\": 1, \"753\": 1, \"754\": 1, \"755\": 1, \"756\": 1, \"757\": 1, \"758\": 1, \"759\": 1, \"760\": 1, \"761\": 1, \"762\": 1, \"763\": 1, \"764\": 1, \"765\": 1, \"766\": 1, \"767\": 1, \"768\": 1, \"769\": 1, \"770\": 1, \"771\": 1, \"772\": 1, \"773\": 1, \"774\": 1, \"775\": 1, \"776\": 1, \"777\": 1, \"778\": 1, \"779\": 1, \"780\": 1, \"781\": 1, \"782\": 1, \"783\": 1, \"784\": 1, \"785\": 1, \"786\": 1, \"787\": 1, \"788\": 1, \"789\": 1, \"790\": 1, \"791\": 1, \"792\": 1, \"793\": 1, \"794\": 1, \"795\": 1, \"796\": 1, \"797\": 1, \"798\": 1, \"799\": 1, \"800\": 1, \"801\": 1, \"802\": 1, \"803\": 1, \"804\": 1, \"805\": 1, \"806\": 1, \"807\": 1, \"808\": 1, \"809\": 1, \"810\": 1, \"811\": 1, \"812\": 1, \"813\": 1, \"814\": 1, \"815\": 1, \"816\": 1, \"817\": 1, \"818\": 1, \"819\": 1, \"820\": 1, \"821\": 1, \"822\": 1, \"823\": 1, \"824\": 1, \"825\": 1, \"826\": 1, \"827\": 1, \"828\": 1, \"829\": 1, \"830\": 1, \"831\": 1, \"832\": 1, \"833\": 1, \"834\": 1, \"835\": 1, \"836\": 1, \"837\": 1, \"838\": 1, \"839\": 1, \"840\": 1, \"841\": 1, \"842\": 1, \"843\": 1, \"844\": 1, \"845\": 1, \"846\": 1, \"847\": 1, \"848\": 1, \"849\": 1, \"850\": 1, \"851\": 1, \"852\": 1, \"853\": 1, \"854\": 1, \"855\": 1, \"856\": 1, \"857\": 1, \"858\": 1, \"859\": 1, \"860\": 1, \"861\": 1, \"862\": 1, \"863\": 1, \"864\": 1, \"865\": 1, \"866\": 1, \"867\": 1, \"868\": 1, \"869\": 1, \"870\": 1, \"871\": 1, \"872\": 1, \"873\": 1, \"874\": 1, \"875\": 1, \"876\": 1, \"877\": 1, \"878\": 1, \"879\": 1}}'"
      ]
     },
     "execution_count": 8,
     "metadata": {},
     "output_type": "execute_result"
    }
   ],
   "source": [
    "import pandas as pd\n",
    "s3 = pd.read_csv(\"s3://demo-inputs-bucket/Batch_Data/Batch_Data.csv\")\n",
    "\n",
    "\n",
    "result = predictor.predict(s3)\n",
    "result"
   ]
  },
  {
   "cell_type": "code",
   "execution_count": null,
   "id": "cb81181e-c55e-4283-a494-a6be60e2fb31",
   "metadata": {},
   "outputs": [],
   "source": []
  }
 ],
 "metadata": {
  "availableInstances": [
   {
    "_defaultOrder": 0,
    "_isFastLaunch": true,
    "category": "General purpose",
    "gpuNum": 0,
    "hideHardwareSpecs": false,
    "memoryGiB": 4,
    "name": "ml.t3.medium",
    "vcpuNum": 2
   },
   {
    "_defaultOrder": 1,
    "_isFastLaunch": false,
    "category": "General purpose",
    "gpuNum": 0,
    "hideHardwareSpecs": false,
    "memoryGiB": 8,
    "name": "ml.t3.large",
    "vcpuNum": 2
   },
   {
    "_defaultOrder": 2,
    "_isFastLaunch": false,
    "category": "General purpose",
    "gpuNum": 0,
    "hideHardwareSpecs": false,
    "memoryGiB": 16,
    "name": "ml.t3.xlarge",
    "vcpuNum": 4
   },
   {
    "_defaultOrder": 3,
    "_isFastLaunch": false,
    "category": "General purpose",
    "gpuNum": 0,
    "hideHardwareSpecs": false,
    "memoryGiB": 32,
    "name": "ml.t3.2xlarge",
    "vcpuNum": 8
   },
   {
    "_defaultOrder": 4,
    "_isFastLaunch": true,
    "category": "General purpose",
    "gpuNum": 0,
    "hideHardwareSpecs": false,
    "memoryGiB": 8,
    "name": "ml.m5.large",
    "vcpuNum": 2
   },
   {
    "_defaultOrder": 5,
    "_isFastLaunch": false,
    "category": "General purpose",
    "gpuNum": 0,
    "hideHardwareSpecs": false,
    "memoryGiB": 16,
    "name": "ml.m5.xlarge",
    "vcpuNum": 4
   },
   {
    "_defaultOrder": 6,
    "_isFastLaunch": false,
    "category": "General purpose",
    "gpuNum": 0,
    "hideHardwareSpecs": false,
    "memoryGiB": 32,
    "name": "ml.m5.2xlarge",
    "vcpuNum": 8
   },
   {
    "_defaultOrder": 7,
    "_isFastLaunch": false,
    "category": "General purpose",
    "gpuNum": 0,
    "hideHardwareSpecs": false,
    "memoryGiB": 64,
    "name": "ml.m5.4xlarge",
    "vcpuNum": 16
   },
   {
    "_defaultOrder": 8,
    "_isFastLaunch": false,
    "category": "General purpose",
    "gpuNum": 0,
    "hideHardwareSpecs": false,
    "memoryGiB": 128,
    "name": "ml.m5.8xlarge",
    "vcpuNum": 32
   },
   {
    "_defaultOrder": 9,
    "_isFastLaunch": false,
    "category": "General purpose",
    "gpuNum": 0,
    "hideHardwareSpecs": false,
    "memoryGiB": 192,
    "name": "ml.m5.12xlarge",
    "vcpuNum": 48
   },
   {
    "_defaultOrder": 10,
    "_isFastLaunch": false,
    "category": "General purpose",
    "gpuNum": 0,
    "hideHardwareSpecs": false,
    "memoryGiB": 256,
    "name": "ml.m5.16xlarge",
    "vcpuNum": 64
   },
   {
    "_defaultOrder": 11,
    "_isFastLaunch": false,
    "category": "General purpose",
    "gpuNum": 0,
    "hideHardwareSpecs": false,
    "memoryGiB": 384,
    "name": "ml.m5.24xlarge",
    "vcpuNum": 96
   },
   {
    "_defaultOrder": 12,
    "_isFastLaunch": false,
    "category": "General purpose",
    "gpuNum": 0,
    "hideHardwareSpecs": false,
    "memoryGiB": 8,
    "name": "ml.m5d.large",
    "vcpuNum": 2
   },
   {
    "_defaultOrder": 13,
    "_isFastLaunch": false,
    "category": "General purpose",
    "gpuNum": 0,
    "hideHardwareSpecs": false,
    "memoryGiB": 16,
    "name": "ml.m5d.xlarge",
    "vcpuNum": 4
   },
   {
    "_defaultOrder": 14,
    "_isFastLaunch": false,
    "category": "General purpose",
    "gpuNum": 0,
    "hideHardwareSpecs": false,
    "memoryGiB": 32,
    "name": "ml.m5d.2xlarge",
    "vcpuNum": 8
   },
   {
    "_defaultOrder": 15,
    "_isFastLaunch": false,
    "category": "General purpose",
    "gpuNum": 0,
    "hideHardwareSpecs": false,
    "memoryGiB": 64,
    "name": "ml.m5d.4xlarge",
    "vcpuNum": 16
   },
   {
    "_defaultOrder": 16,
    "_isFastLaunch": false,
    "category": "General purpose",
    "gpuNum": 0,
    "hideHardwareSpecs": false,
    "memoryGiB": 128,
    "name": "ml.m5d.8xlarge",
    "vcpuNum": 32
   },
   {
    "_defaultOrder": 17,
    "_isFastLaunch": false,
    "category": "General purpose",
    "gpuNum": 0,
    "hideHardwareSpecs": false,
    "memoryGiB": 192,
    "name": "ml.m5d.12xlarge",
    "vcpuNum": 48
   },
   {
    "_defaultOrder": 18,
    "_isFastLaunch": false,
    "category": "General purpose",
    "gpuNum": 0,
    "hideHardwareSpecs": false,
    "memoryGiB": 256,
    "name": "ml.m5d.16xlarge",
    "vcpuNum": 64
   },
   {
    "_defaultOrder": 19,
    "_isFastLaunch": false,
    "category": "General purpose",
    "gpuNum": 0,
    "hideHardwareSpecs": false,
    "memoryGiB": 384,
    "name": "ml.m5d.24xlarge",
    "vcpuNum": 96
   },
   {
    "_defaultOrder": 20,
    "_isFastLaunch": false,
    "category": "General purpose",
    "gpuNum": 0,
    "hideHardwareSpecs": true,
    "memoryGiB": 0,
    "name": "ml.geospatial.interactive",
    "supportedImageNames": [
     "sagemaker-geospatial-v1-0"
    ],
    "vcpuNum": 0
   },
   {
    "_defaultOrder": 21,
    "_isFastLaunch": true,
    "category": "Compute optimized",
    "gpuNum": 0,
    "hideHardwareSpecs": false,
    "memoryGiB": 4,
    "name": "ml.c5.large",
    "vcpuNum": 2
   },
   {
    "_defaultOrder": 22,
    "_isFastLaunch": false,
    "category": "Compute optimized",
    "gpuNum": 0,
    "hideHardwareSpecs": false,
    "memoryGiB": 8,
    "name": "ml.c5.xlarge",
    "vcpuNum": 4
   },
   {
    "_defaultOrder": 23,
    "_isFastLaunch": false,
    "category": "Compute optimized",
    "gpuNum": 0,
    "hideHardwareSpecs": false,
    "memoryGiB": 16,
    "name": "ml.c5.2xlarge",
    "vcpuNum": 8
   },
   {
    "_defaultOrder": 24,
    "_isFastLaunch": false,
    "category": "Compute optimized",
    "gpuNum": 0,
    "hideHardwareSpecs": false,
    "memoryGiB": 32,
    "name": "ml.c5.4xlarge",
    "vcpuNum": 16
   },
   {
    "_defaultOrder": 25,
    "_isFastLaunch": false,
    "category": "Compute optimized",
    "gpuNum": 0,
    "hideHardwareSpecs": false,
    "memoryGiB": 72,
    "name": "ml.c5.9xlarge",
    "vcpuNum": 36
   },
   {
    "_defaultOrder": 26,
    "_isFastLaunch": false,
    "category": "Compute optimized",
    "gpuNum": 0,
    "hideHardwareSpecs": false,
    "memoryGiB": 96,
    "name": "ml.c5.12xlarge",
    "vcpuNum": 48
   },
   {
    "_defaultOrder": 27,
    "_isFastLaunch": false,
    "category": "Compute optimized",
    "gpuNum": 0,
    "hideHardwareSpecs": false,
    "memoryGiB": 144,
    "name": "ml.c5.18xlarge",
    "vcpuNum": 72
   },
   {
    "_defaultOrder": 28,
    "_isFastLaunch": false,
    "category": "Compute optimized",
    "gpuNum": 0,
    "hideHardwareSpecs": false,
    "memoryGiB": 192,
    "name": "ml.c5.24xlarge",
    "vcpuNum": 96
   },
   {
    "_defaultOrder": 29,
    "_isFastLaunch": true,
    "category": "Accelerated computing",
    "gpuNum": 1,
    "hideHardwareSpecs": false,
    "memoryGiB": 16,
    "name": "ml.g4dn.xlarge",
    "vcpuNum": 4
   },
   {
    "_defaultOrder": 30,
    "_isFastLaunch": false,
    "category": "Accelerated computing",
    "gpuNum": 1,
    "hideHardwareSpecs": false,
    "memoryGiB": 32,
    "name": "ml.g4dn.2xlarge",
    "vcpuNum": 8
   },
   {
    "_defaultOrder": 31,
    "_isFastLaunch": false,
    "category": "Accelerated computing",
    "gpuNum": 1,
    "hideHardwareSpecs": false,
    "memoryGiB": 64,
    "name": "ml.g4dn.4xlarge",
    "vcpuNum": 16
   },
   {
    "_defaultOrder": 32,
    "_isFastLaunch": false,
    "category": "Accelerated computing",
    "gpuNum": 1,
    "hideHardwareSpecs": false,
    "memoryGiB": 128,
    "name": "ml.g4dn.8xlarge",
    "vcpuNum": 32
   },
   {
    "_defaultOrder": 33,
    "_isFastLaunch": false,
    "category": "Accelerated computing",
    "gpuNum": 4,
    "hideHardwareSpecs": false,
    "memoryGiB": 192,
    "name": "ml.g4dn.12xlarge",
    "vcpuNum": 48
   },
   {
    "_defaultOrder": 34,
    "_isFastLaunch": false,
    "category": "Accelerated computing",
    "gpuNum": 1,
    "hideHardwareSpecs": false,
    "memoryGiB": 256,
    "name": "ml.g4dn.16xlarge",
    "vcpuNum": 64
   },
   {
    "_defaultOrder": 35,
    "_isFastLaunch": false,
    "category": "Accelerated computing",
    "gpuNum": 1,
    "hideHardwareSpecs": false,
    "memoryGiB": 61,
    "name": "ml.p3.2xlarge",
    "vcpuNum": 8
   },
   {
    "_defaultOrder": 36,
    "_isFastLaunch": false,
    "category": "Accelerated computing",
    "gpuNum": 4,
    "hideHardwareSpecs": false,
    "memoryGiB": 244,
    "name": "ml.p3.8xlarge",
    "vcpuNum": 32
   },
   {
    "_defaultOrder": 37,
    "_isFastLaunch": false,
    "category": "Accelerated computing",
    "gpuNum": 8,
    "hideHardwareSpecs": false,
    "memoryGiB": 488,
    "name": "ml.p3.16xlarge",
    "vcpuNum": 64
   },
   {
    "_defaultOrder": 38,
    "_isFastLaunch": false,
    "category": "Accelerated computing",
    "gpuNum": 8,
    "hideHardwareSpecs": false,
    "memoryGiB": 768,
    "name": "ml.p3dn.24xlarge",
    "vcpuNum": 96
   },
   {
    "_defaultOrder": 39,
    "_isFastLaunch": false,
    "category": "Memory Optimized",
    "gpuNum": 0,
    "hideHardwareSpecs": false,
    "memoryGiB": 16,
    "name": "ml.r5.large",
    "vcpuNum": 2
   },
   {
    "_defaultOrder": 40,
    "_isFastLaunch": false,
    "category": "Memory Optimized",
    "gpuNum": 0,
    "hideHardwareSpecs": false,
    "memoryGiB": 32,
    "name": "ml.r5.xlarge",
    "vcpuNum": 4
   },
   {
    "_defaultOrder": 41,
    "_isFastLaunch": false,
    "category": "Memory Optimized",
    "gpuNum": 0,
    "hideHardwareSpecs": false,
    "memoryGiB": 64,
    "name": "ml.r5.2xlarge",
    "vcpuNum": 8
   },
   {
    "_defaultOrder": 42,
    "_isFastLaunch": false,
    "category": "Memory Optimized",
    "gpuNum": 0,
    "hideHardwareSpecs": false,
    "memoryGiB": 128,
    "name": "ml.r5.4xlarge",
    "vcpuNum": 16
   },
   {
    "_defaultOrder": 43,
    "_isFastLaunch": false,
    "category": "Memory Optimized",
    "gpuNum": 0,
    "hideHardwareSpecs": false,
    "memoryGiB": 256,
    "name": "ml.r5.8xlarge",
    "vcpuNum": 32
   },
   {
    "_defaultOrder": 44,
    "_isFastLaunch": false,
    "category": "Memory Optimized",
    "gpuNum": 0,
    "hideHardwareSpecs": false,
    "memoryGiB": 384,
    "name": "ml.r5.12xlarge",
    "vcpuNum": 48
   },
   {
    "_defaultOrder": 45,
    "_isFastLaunch": false,
    "category": "Memory Optimized",
    "gpuNum": 0,
    "hideHardwareSpecs": false,
    "memoryGiB": 512,
    "name": "ml.r5.16xlarge",
    "vcpuNum": 64
   },
   {
    "_defaultOrder": 46,
    "_isFastLaunch": false,
    "category": "Memory Optimized",
    "gpuNum": 0,
    "hideHardwareSpecs": false,
    "memoryGiB": 768,
    "name": "ml.r5.24xlarge",
    "vcpuNum": 96
   },
   {
    "_defaultOrder": 47,
    "_isFastLaunch": false,
    "category": "Accelerated computing",
    "gpuNum": 1,
    "hideHardwareSpecs": false,
    "memoryGiB": 16,
    "name": "ml.g5.xlarge",
    "vcpuNum": 4
   },
   {
    "_defaultOrder": 48,
    "_isFastLaunch": false,
    "category": "Accelerated computing",
    "gpuNum": 1,
    "hideHardwareSpecs": false,
    "memoryGiB": 32,
    "name": "ml.g5.2xlarge",
    "vcpuNum": 8
   },
   {
    "_defaultOrder": 49,
    "_isFastLaunch": false,
    "category": "Accelerated computing",
    "gpuNum": 1,
    "hideHardwareSpecs": false,
    "memoryGiB": 64,
    "name": "ml.g5.4xlarge",
    "vcpuNum": 16
   },
   {
    "_defaultOrder": 50,
    "_isFastLaunch": false,
    "category": "Accelerated computing",
    "gpuNum": 1,
    "hideHardwareSpecs": false,
    "memoryGiB": 128,
    "name": "ml.g5.8xlarge",
    "vcpuNum": 32
   },
   {
    "_defaultOrder": 51,
    "_isFastLaunch": false,
    "category": "Accelerated computing",
    "gpuNum": 1,
    "hideHardwareSpecs": false,
    "memoryGiB": 256,
    "name": "ml.g5.16xlarge",
    "vcpuNum": 64
   },
   {
    "_defaultOrder": 52,
    "_isFastLaunch": false,
    "category": "Accelerated computing",
    "gpuNum": 4,
    "hideHardwareSpecs": false,
    "memoryGiB": 192,
    "name": "ml.g5.12xlarge",
    "vcpuNum": 48
   },
   {
    "_defaultOrder": 53,
    "_isFastLaunch": false,
    "category": "Accelerated computing",
    "gpuNum": 4,
    "hideHardwareSpecs": false,
    "memoryGiB": 384,
    "name": "ml.g5.24xlarge",
    "vcpuNum": 96
   },
   {
    "_defaultOrder": 54,
    "_isFastLaunch": false,
    "category": "Accelerated computing",
    "gpuNum": 8,
    "hideHardwareSpecs": false,
    "memoryGiB": 768,
    "name": "ml.g5.48xlarge",
    "vcpuNum": 192
   },
   {
    "_defaultOrder": 55,
    "_isFastLaunch": false,
    "category": "Accelerated computing",
    "gpuNum": 8,
    "hideHardwareSpecs": false,
    "memoryGiB": 1152,
    "name": "ml.p4d.24xlarge",
    "vcpuNum": 96
   },
   {
    "_defaultOrder": 56,
    "_isFastLaunch": false,
    "category": "Accelerated computing",
    "gpuNum": 8,
    "hideHardwareSpecs": false,
    "memoryGiB": 1152,
    "name": "ml.p4de.24xlarge",
    "vcpuNum": 96
   }
  ],
  "instance_type": "ml.t3.medium",
  "kernelspec": {
   "display_name": "Python 3 (Data Science 3.0)",
   "language": "python",
   "name": "python3__SAGEMAKER_INTERNAL__arn:aws:sagemaker:ap-south-1:394103062818:image/sagemaker-data-science-310-v1"
  },
  "language_info": {
   "codemirror_mode": {
    "name": "ipython",
    "version": 3
   },
   "file_extension": ".py",
   "mimetype": "text/x-python",
   "name": "python",
   "nbconvert_exporter": "python",
   "pygments_lexer": "ipython3",
   "version": "3.10.6"
  }
 },
 "nbformat": 4,
 "nbformat_minor": 5
}
